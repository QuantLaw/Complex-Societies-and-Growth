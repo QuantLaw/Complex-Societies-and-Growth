{
 "cells": [
  {
   "cell_type": "markdown",
   "source": [
    "## TFIDF Cluster Family Inspection\n",
    "\n",
    "In this notebook, we compute the Term Frequency-Inverse Document Frequency statistics\n",
    "used to validate our cluster family names as reported in the SI.\n",
    "\n",
    "Executing this notebook requires access to the text data contained in the individual clusters,\n",
    "which is not provided in the data accompanying the paper.\n",
    "For the United States, the input data can be computed by running our preprocessing and clustering pipelines on the publicly available XML\n",
    "from the Office of the Law Revision Counsel.\n",
    "For Germany, we cannot make the input data available due to licensing restrictions."
   ],
   "metadata": {
    "collapsed": false,
    "pycharm": {
     "name": "#%% md\n"
    }
   }
  },
  {
   "cell_type": "markdown",
   "source": [
    "### Preparations"
   ],
   "metadata": {
    "collapsed": false,
    "pycharm": {
     "name": "#%% md\n"
    }
   }
  },
  {
   "cell_type": "code",
   "execution_count": null,
   "metadata": {},
   "outputs": [],
   "source": [
    "import networkx as nx\n",
    "from gensim.utils import simple_preprocess\n",
    "from gensim import corpora, models\n",
    "import pandas as pd\n",
    "\n",
    "from legal_data_clustering.utils.graph_api import cluster_families"
   ]
  },
  {
   "cell_type": "code",
   "execution_count": null,
   "metadata": {},
   "outputs": [],
   "source": [
    "# switch between us and de to compute tfidf statistics for the different countries\n",
    "\n",
    "dataset = 'us'\n",
    "#dataset = 'de'\n",
    "\n",
    "base_path = f'../../legal-networks-data/{dataset}/'"
   ]
  },
  {
   "cell_type": "markdown",
   "source": [
    "### Computing the statistics"
   ],
   "metadata": {
    "collapsed": false,
    "pycharm": {
     "name": "#%% md\n"
    }
   }
  },
  {
   "cell_type": "code",
   "execution_count": null,
   "metadata": {},
   "outputs": [],
   "source": [
    "G = nx.read_gpickle(\n",
    "    base_path+'13_cluster_evolution_graph/all_0-0_1-0_-1_a-infomap_n100_m1-0_s0_c1000.gpickle.gz'\n",
    ")"
   ]
  },
  {
   "cell_type": "code",
   "execution_count": null,
   "metadata": {},
   "outputs": [],
   "source": [
    "cluster_families = cluster_families(G,threshold=.15)[:20]\n",
    "leading_clusters = [c[0] for c in cluster_families]"
   ]
  },
  {
   "cell_type": "code",
   "execution_count": null,
   "metadata": {},
   "outputs": [],
   "source": [
    "def read_cluster_texts(node):\n",
    "    year, cluster = node.split('_')\n",
    "    with open(f'{base_path}12_cluster_texts/{year}_0-0_1-0_-1_a-infomap_n100_m1-0_s0_c1000/community_{cluster}.txt') as f:\n",
    "        return f.read()\n",
    "\n",
    "family_nodes = [\n",
    "    ' '.join([\n",
    "        read_cluster_texts(c) \n",
    "        for c in clusters\n",
    "    ])\n",
    "    for clusters in cluster_families\n",
    "]"
   ]
  },
  {
   "cell_type": "code",
   "execution_count": null,
   "metadata": {},
   "outputs": [],
   "source": [
    "def preprocess(x):\n",
    "    res = simple_preprocess(x)\n",
    "    print('done')\n",
    "    return res\n",
    "\n",
    "cluster_families_preprocessed = [preprocess(doc) for doc in family_nodes]"
   ]
  },
  {
   "cell_type": "code",
   "execution_count": null,
   "metadata": {},
   "outputs": [],
   "source": [
    "family_nodes = None"
   ]
  },
  {
   "cell_type": "code",
   "execution_count": null,
   "metadata": {},
   "outputs": [],
   "source": [
    "dictionary = corpora.Dictionary()\n",
    "BoW_corpus = [dictionary.doc2bow(doc, allow_update=True) for doc in cluster_families_preprocessed]"
   ]
  },
  {
   "cell_type": "code",
   "execution_count": null,
   "metadata": {},
   "outputs": [],
   "source": [
    "tfidf = models.TfidfModel(BoW_corpus, smartirs='ntc')"
   ]
  },
  {
   "cell_type": "code",
   "execution_count": null,
   "metadata": {},
   "outputs": [],
   "source": [
    "data = [\n",
    "    {dictionary[key]: freq for key, freq in doc}\n",
    "    for doc in tfidf[BoW_corpus][:20]\n",
    "]"
   ]
  },
  {
   "cell_type": "code",
   "execution_count": null,
   "metadata": {},
   "outputs": [],
   "source": [
    "data_sorted = [\n",
    "    sorted([x for x in cluster_family.items()], key=lambda y: y[-1], reverse=True)\n",
    "    for cluster_family in data\n",
    "]"
   ]
  },
  {
   "cell_type": "code",
   "execution_count": null,
   "metadata": {},
   "outputs": [],
   "source": [
    "df = pd.DataFrame({\n",
    "    leading: [word for word, cnt in fam_data[:250]]\n",
    "    for leading, fam_data in zip(leading_clusters, data_sorted)\n",
    "})\n",
    "df.to_csv(f'../graphics/tfidf_cluster_family_inspection_{dataset}.csv')"
   ]
  },
  {
   "cell_type": "markdown",
   "metadata": {
    "pycharm": {
     "name": "#%% md\n"
    }
   },
   "source": [
    "### End"
   ]
  }
 ],
 "metadata": {
  "kernelspec": {
   "display_name": "Python 3",
   "language": "python",
   "name": "python3"
  },
  "language_info": {
   "codemirror_mode": {
    "name": "ipython",
    "version": 3
   },
   "file_extension": ".py",
   "mimetype": "text/x-python",
   "name": "python",
   "nbconvert_exporter": "python",
   "pygments_lexer": "ipython3",
   "version": "3.7.5"
  }
 },
 "nbformat": 4,
 "nbformat_minor": 4
}