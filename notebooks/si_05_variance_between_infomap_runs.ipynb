{
 "cells": [
  {
   "cell_type": "markdown",
   "metadata": {},
   "source": [
    "## Variance between Infomap Runs\n",
    "\n",
    "In this notebook, we check the robustness of our results against the randomness inherent in the `infomap` algorithm\n",
    "as reported in the SI.\n",
    "\n",
    "In short, we investigate the question:\n",
    "How much variance does there exist between infomap runs with different seeds?"
   ]
  },
  {
   "cell_type": "markdown",
   "source": [
    "### Preparations"
   ],
   "metadata": {
    "collapsed": false,
    "pycharm": {
     "name": "#%% md\n"
    }
   }
  },
  {
   "cell_type": "code",
   "execution_count": null,
   "metadata": {},
   "outputs": [],
   "source": [
    "from collections import defaultdict\n",
    "import itertools\n",
    "import multiprocessing\n",
    "import networkx as nx\n",
    "import pandas as pd\n",
    "import matplotlib.pylab as plt\n",
    "import matplotlib.colors as colors\n",
    "import seaborn as sns\n",
    "from cdlib import NodeClustering, evaluation\n",
    "\n",
    "from legal_data_clustering.pipeline.cd_cluster import cluster"
   ]
  },
  {
   "cell_type": "code",
   "execution_count": null,
   "metadata": {},
   "outputs": [],
   "source": [
    "def _cluster(run_idx):\n",
    "        return cluster(g, config, return_tree=False, seed=run_idx * 10000).communities\n",
    "\n",
    "def analyze_cluster_run_diff(year, graphfile):\n",
    "    global g\n",
    "    g = nx.read_gpickle(graphfile)\n",
    "    global config\n",
    "    config = dict(method='infomap', markov_time=1.0, number_of_modules=100)\n",
    "\n",
    "    with multiprocessing.Pool(4) as p:\n",
    "        clusterings = p.map(_cluster, range(100))\n",
    "        \n",
    "    scores_nmi = [\n",
    "        evaluation.normalized_mutual_information(\n",
    "            NodeClustering(c1, g, None),\n",
    "            NodeClustering(c2, g, None)\n",
    "        ).score\n",
    "        for c1, c2 in itertools.combinations(clusterings, 2)\n",
    "    ]\n",
    "    \n",
    "    scores_rand = [\n",
    "        evaluation.adjusted_rand_index(\n",
    "            NodeClustering(c1, g, None),\n",
    "            NodeClustering(c2, g, None)\n",
    "        ).score\n",
    "        for c1, c2 in itertools.combinations(clusterings, 2)\n",
    "    ]\n",
    "    \n",
    "#     scores_pairs = [\n",
    "#         evaluation.adjusted_mutual_information(\n",
    "#             NodeClustering(c1, g, None),\n",
    "#             NodeClustering(c2, g, None)\n",
    "#         ).score\n",
    "#         for c1, c2 in zip(clusterings[::2],clusterings[1::2])\n",
    "#     ]\n",
    "\n",
    "    return {\n",
    "        \"NMI\": scores_nmi,\n",
    "        \"Rand\": scores_rand,\n",
    "    }"
   ]
  },
  {
   "cell_type": "code",
   "execution_count": null,
   "metadata": {},
   "outputs": [],
   "source": [
    "years = list(range(1994, 2018+1))"
   ]
  },
  {
   "cell_type": "markdown",
   "source": [
    "### Compute statistics"
   ],
   "metadata": {
    "collapsed": false,
    "pycharm": {
     "name": "#%% md\n"
    }
   }
  },
  {
   "cell_type": "markdown",
   "metadata": {},
   "source": [
    "#### US"
   ]
  },
  {
   "cell_type": "code",
   "execution_count": null,
   "metadata": {},
   "outputs": [],
   "source": [
    "scores = defaultdict(list)\n",
    "for year in years:\n",
    "    scores_dict = analyze_cluster_run_diff(\n",
    "        year,\n",
    "        f\"../../legal-networks-data/us/10_preprocessed_graph/{year}_0-0_1-0_-1.gpickle.gz\"\n",
    "    )\n",
    "    for method, method_scores in scores_dict.items():    \n",
    "        scores[method].append(method_scores)\n",
    "\n",
    "    print(year, 'done')"
   ]
  },
  {
   "cell_type": "code",
   "execution_count": null,
   "metadata": {},
   "outputs": [],
   "source": [
    "dfs = []\n",
    "for method in scores:\n",
    "    df = pd.DataFrame({y:s for y, s in zip(years, scores[method])}).T\n",
    "    df['Method'] = method\n",
    "    df = df.reset_index().set_index(['Method', 'index']).T\n",
    "    dfs.append(df)\n",
    "df = pd.concat(dfs)\n",
    "df.to_pickle('../graphics/variance_infomap_runs_us.pickle')"
   ]
  },
  {
   "cell_type": "code",
   "execution_count": null,
   "metadata": {},
   "outputs": [],
   "source": [
    "df = pd.read_pickle('../graphics/variance_infomap_runs_us.pickle')\n",
    "df.describe()"
   ]
  },
  {
   "cell_type": "code",
   "execution_count": null,
   "metadata": {},
   "outputs": [],
   "source": [
    "cm = plt.get_cmap('viridis')\n",
    "cNorm  = colors.Normalize(vmin=0, vmax=len(years)-1)\n",
    "plt.rcParams['figure.figsize'] = (12,9)\n",
    "plt.rcParams['font.size'] = 16\n",
    "sns.set_style('darkgrid')"
   ]
  },
  {
   "cell_type": "code",
   "execution_count": null,
   "metadata": {},
   "outputs": [],
   "source": [
    "def create_variance_plot(df_col, xlabel, save_path=None):\n",
    "    for idx, (year, col) in enumerate(df_col.iteritems()):\n",
    "        sns.distplot(col, norm_hist=True, hist=False, rug=False, color=cm(idx/25), label=year)\n",
    "        #col.hist(bins=25, histtype='step', label=year, density=True, color=cm(idx/25))\n",
    "    plt.legend(ncol=2, loc='upper left', bbox_to_anchor=(0,1))\n",
    "    plt.xlabel(xlabel)\n",
    "    plt.ylabel('Smoothed Frequency among 4950 Pairs of Clusterings')\n",
    "    plt.tight_layout()\n",
    "    if save_path is not None:\n",
    "        plt.savefig(save_path)"
   ]
  },
  {
   "cell_type": "code",
   "execution_count": null,
   "metadata": {},
   "outputs": [],
   "source": [
    "create_variance_plot(df['NMI'], 'Normalised Mutual Information', save_path='../graphics/variance_infomap_runs_us_nmi.pdf')"
   ]
  },
  {
   "cell_type": "code",
   "execution_count": null,
   "metadata": {},
   "outputs": [],
   "source": [
    "create_variance_plot(df['Rand'], 'Adjusted Rand Index', save_path='../graphics/variance_infomap_runs_us_rand.pdf')"
   ]
  },
  {
   "cell_type": "markdown",
   "metadata": {},
   "source": [
    "#### DE"
   ]
  },
  {
   "cell_type": "code",
   "execution_count": null,
   "metadata": {},
   "outputs": [],
   "source": [
    "scores = defaultdict(list)\n",
    "for year in years:\n",
    "    scores_dict = analyze_cluster_run_diff(\n",
    "        year,\n",
    "        f\"../../legal-networks-data/de/10_preprocessed_graph/{year}-01-01_0-0_1-0_-1.gpickle.gz\"\n",
    "    )\n",
    "    for method, method_scores in scores_dict.items():    \n",
    "        scores[method].append(method_scores)\n",
    "\n",
    "    print(year, 'done')"
   ]
  },
  {
   "cell_type": "code",
   "execution_count": null,
   "metadata": {},
   "outputs": [],
   "source": [
    "dfs = []\n",
    "for method in scores:\n",
    "    df = pd.DataFrame({y:s for y, s in zip(years, scores[method])}).T\n",
    "    df['Method'] = method\n",
    "    df = df.reset_index().set_index(['Method', 'index']).T\n",
    "    dfs.append(df)\n",
    "df = pd.concat(dfs)\n",
    "df.to_pickle('../graphics/variance_infomap_runs_de.pickle')"
   ]
  },
  {
   "cell_type": "code",
   "execution_count": null,
   "metadata": {},
   "outputs": [],
   "source": [
    "df = pd.read_pickle('../graphics/variance_infomap_runs_de.pickle')\n",
    "df.describe()"
   ]
  },
  {
   "cell_type": "code",
   "execution_count": null,
   "metadata": {},
   "outputs": [],
   "source": [
    "create_variance_plot(df['NMI'], 'Normalised Mutual Information', save_path='../graphics/variance_infomap_runs_de_nmi.pdf')"
   ]
  },
  {
   "cell_type": "code",
   "execution_count": null,
   "metadata": {},
   "outputs": [],
   "source": [
    "create_variance_plot(df['Rand'], 'Adjusted Rand Index', save_path='../graphics/variance_infomap_runs_de_rand.pdf')"
   ]
  }
 ],
 "metadata": {
  "kernelspec": {
   "display_name": "Python 3",
   "language": "python",
   "name": "python3"
  },
  "language_info": {
   "codemirror_mode": {
    "name": "ipython",
    "version": 3
   },
   "file_extension": ".py",
   "mimetype": "text/x-python",
   "name": "python",
   "nbconvert_exporter": "python",
   "pygments_lexer": "ipython3",
   "version": "3.7.5"
  }
 },
 "nbformat": 4,
 "nbformat_minor": 4
}