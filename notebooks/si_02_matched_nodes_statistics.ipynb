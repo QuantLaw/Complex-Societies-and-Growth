{
 "cells": [
  {
   "cell_type": "markdown",
   "source": [
    "## Matched Nodes Statistics\n",
    "\n",
    "In this notebook, we compute the percentage of nodes that we managed to map between snapshots\n",
    "using on our multi-pass node alignment heuristic, as reported in the text of the paper."
   ],
   "metadata": {
    "collapsed": false,
    "pycharm": {
     "name": "#%% md\n"
    }
   }
  },
  {
   "cell_type": "markdown",
   "source": [
    "### Preparations"
   ],
   "metadata": {
    "collapsed": false,
    "pycharm": {
     "name": "#%% md\n"
    }
   }
  },
  {
   "cell_type": "code",
   "execution_count": null,
   "metadata": {},
   "outputs": [],
   "source": [
    "import networkx as nx\n",
    "import os\n",
    "import json\n",
    "import pandas as pd\n",
    "from quantlaw.utils.networkx import get_leaves"
   ]
  },
  {
   "cell_type": "code",
   "execution_count": null,
   "metadata": {},
   "outputs": [],
   "source": [
    "data = []\n",
    "for dataset in ['us', 'de']:\n",
    "    folder = f'../../legal-networks-data/{dataset}/4_crossreference_graph/subseqitems/'\n",
    "    leaves_dict = {}\n",
    "    for file in sorted(os.listdir(folder)):\n",
    "        if file.endswith('.gpickle.gz'):\n",
    "            G = nx.read_gpickle(folder+file)\n",
    "            leaves = get_leaves(G)\n",
    "            leaves_dict[file.split('.')[0]] = len(leaves)\n",
    "            print(file, 'done')\n",
    "    \n",
    "    folder = f'../../legal-networks-data/{dataset}/5_snapshot_mapping_edgelist/subseqitems/'\n",
    "    for file in sorted(os.listdir(folder)):\n",
    "        if file.endswith('.json'):\n",
    "            with open(folder+file) as f:\n",
    "                mappings = json.load(f)\n",
    "            file_base = os.path.splitext(file)[0]\n",
    "            snapshot_1, snapshot_2 = file_base.split('_')\n",
    "            data.append({\n",
    "                'dataset': dataset,\n",
    "                'year1': snapshot_1,\n",
    "                'year2': snapshot_2,\n",
    "                'count1': leaves_dict[snapshot_1],\n",
    "                'count2': leaves_dict[snapshot_2],\n",
    "                'mapped': len(mappings)\n",
    "            })"
   ]
  },
  {
   "cell_type": "code",
   "execution_count": null,
   "metadata": {},
   "outputs": [],
   "source": [
    "df = pd.DataFrame(data).sort_values(['dataset', 'year1'])\n",
    "df['Mappend Ratio'] = [t.mapped / min(t.count1, t.count2) for t in df.itertuples()]\n",
    "df.to_csv('../graphics/matched_stats.csv')"
   ]
  },
  {
   "cell_type": "code",
   "execution_count": null,
   "metadata": {},
   "outputs": [],
   "source": [
    "df = pd.read_csv('../graphics/matched_stats.csv')\n",
    "df.groupby('dataset')['Mappend Ratio'].describe()"
   ]
  },
  {
   "cell_type": "markdown",
   "metadata": {
    "pycharm": {
     "name": "#%% md\n"
    }
   },
   "source": [
    "### End\n",
    "\n"
   ]
  }
 ],
 "metadata": {
  "kernelspec": {
   "display_name": "Python 3",
   "language": "python",
   "name": "python3"
  },
  "language_info": {
   "codemirror_mode": {
    "name": "ipython",
    "version": 3
   },
   "file_extension": ".py",
   "mimetype": "text/x-python",
   "name": "python",
   "nbconvert_exporter": "python",
   "pygments_lexer": "ipython3",
   "version": "3.7.5"
  }
 },
 "nbformat": 4,
 "nbformat_minor": 4
}