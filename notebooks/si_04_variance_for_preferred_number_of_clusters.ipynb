{
 "cells": [
  {
   "cell_type": "markdown",
   "metadata": {},
   "source": [
    "## Variance for Preferred Number of Clusters\n",
    "\n",
    "In this notebook, we conduct the sensitivity analysis for our `infomap` input parameter, the preferred number of clusters,\n",
    "as reported in the SI.\n",
    "\n",
    "In short, we investigate the question:\n",
    "How do the clusterings differ if we vary the preferred number of clusters?"
   ]
  },
  {
   "cell_type": "markdown",
   "source": [
    "### Preparations"
   ],
   "metadata": {
    "collapsed": false,
    "pycharm": {
     "name": "#%% md\n"
    }
   }
  },
  {
   "cell_type": "code",
   "execution_count": null,
   "metadata": {},
   "outputs": [],
   "source": [
    "from cdlib import evaluation, readwrite\n",
    "import pandas as pd\n",
    "import matplotlib.pyplot as plt\n",
    "import seaborn as sns"
   ]
  },
  {
   "cell_type": "code",
   "execution_count": null,
   "metadata": {},
   "outputs": [],
   "source": [
    "sns.set_style(\"darkgrid\")\n",
    "plt.rcParams['figure.figsize'] = (12,9)\n",
    "plt.rcParams['font.size'] = 16"
   ]
  },
  {
   "cell_type": "code",
   "execution_count": null,
   "metadata": {},
   "outputs": [],
   "source": [
    "def make_dfs(dataset, preferred_cluster_sizes, years, config_strs):\n",
    "    dfs = []\n",
    "    for year in years:\n",
    "        config_str = config_strs[0]\n",
    "        ref_clustering = readwrite.read_community_json(\n",
    "                f'../../legal-networks-data/{dataset.lower()}/11_cluster_results/{year}_0-0_1-0_-1_a-infomap_n100_m1-0_s0_c1000.json'\n",
    "            )\n",
    "        clusterings = [\n",
    "            readwrite.read_community_json(\n",
    "                f'../../legal-networks-data/{dataset.lower()}/11_cluster_results/{year}_{config_str}.json'\n",
    "            )\n",
    "            for config_str in config_strs\n",
    "        ]\n",
    "        df = pd.DataFrame(\n",
    "            {\n",
    "                'Preferred Clusters': p,\n",
    "                'NMI': evaluation.normalized_mutual_information(ref_clustering, c).score,\n",
    "                'Rand': evaluation.adjusted_rand_index(ref_clustering, c).score,\n",
    "                \"Year\": year\n",
    "            }\n",
    "            for p, c in zip(preferred_cluster_sizes, clusterings)\n",
    "        )\n",
    "        dfs.append(df)\n",
    "    return dfs"
   ]
  },
  {
   "cell_type": "code",
   "execution_count": null,
   "metadata": {},
   "outputs": [],
   "source": [
    "def make_boxplot(dfs, pivot_col, y_label, save_path=None):\n",
    "    pd.concat(dfs).pivot(columns='Preferred Clusters', index='Year', values=pivot_col\n",
    "                    ).boxplot(notch=0, sym=\"\",color=dict(boxes='k', whiskers='k', medians='r', caps='k'))\n",
    "    plt.ylabel(y_label)\n",
    "    plt.xlabel('Preferred Number of Clusters')\n",
    "    labels = plt.gca().get_xticklabels()\n",
    "    labels[0] = 'auto'\n",
    "    plt.gca().set_xticklabels(labels)\n",
    "    plt.tight_layout()\n",
    "    if save_path is not None:\n",
    "        plt.savefig(save_path)"
   ]
  },
  {
   "cell_type": "markdown",
   "source": [
    "### Computing the statistics"
   ],
   "metadata": {
    "collapsed": false,
    "pycharm": {
     "name": "#%% md\n"
    }
   }
  },
  {
   "cell_type": "markdown",
   "source": [
    "#### US"
   ],
   "metadata": {
    "collapsed": false,
    "pycharm": {
     "name": "#%% md\n"
    }
   }
  },
  {
   "cell_type": "code",
   "execution_count": null,
   "metadata": {},
   "outputs": [],
   "source": [
    "dataset = 'us'\n",
    "preferred_cluster_sizes = list(range(0,150+1,10)) + [200]\n",
    "years = range(1994,2018+1)\n",
    "config_strs = [\n",
    "    f'0-0_1-0_-1_a-infomap_n{preferred_cluster_size}_m1-0_s0_c1000' \n",
    "    if preferred_cluster_size \n",
    "    else '0-0_1-0_-1_a-infomap_m1-0_s0_c1000'\n",
    "    for preferred_cluster_size in preferred_cluster_sizes\n",
    "]"
   ]
  },
  {
   "cell_type": "code",
   "execution_count": null,
   "metadata": {},
   "outputs": [],
   "source": [
    "dfs = make_dfs(dataset, preferred_cluster_sizes, years, config_strs)"
   ]
  },
  {
   "cell_type": "code",
   "execution_count": null,
   "metadata": {},
   "outputs": [],
   "source": [
    "make_boxplot(dfs, 'NMI', 'Normalized Mutual Information', '../graphics/preferred_number_of_modules_nmi_us.pdf')"
   ]
  },
  {
   "cell_type": "code",
   "execution_count": null,
   "metadata": {},
   "outputs": [],
   "source": [
    "make_boxplot(dfs, 'Rand', 'Adjusted Rand Index', '../graphics/preferred_number_of_modules_rand_us.pdf')"
   ]
  },
  {
   "cell_type": "markdown",
   "source": [
    "#### DE"
   ],
   "metadata": {
    "collapsed": false,
    "pycharm": {
     "name": "#%% md\n"
    }
   }
  },
  {
   "cell_type": "code",
   "execution_count": null,
   "metadata": {},
   "outputs": [],
   "source": [
    "dataset = 'de'\n",
    "preferred_cluster_sizes = list(range(0,150+1,10)) + [200]\n",
    "years = [f'{year}-01-01' for year in range(1994,2018+1)]\n",
    "config_strs = [\n",
    "    f'0-0_1-0_-1_a-infomap_n{preferred_cluster_size}_m1-0_s0_c1000' \n",
    "    if preferred_cluster_size \n",
    "    else '0-0_1-0_-1_a-infomap_m1-0_s0_c1000'\n",
    "    for preferred_cluster_size in preferred_cluster_sizes\n",
    "]"
   ]
  },
  {
   "cell_type": "code",
   "execution_count": null,
   "metadata": {},
   "outputs": [],
   "source": [
    "dfs = make_dfs(dataset, preferred_cluster_sizes, years, config_strs)"
   ]
  },
  {
   "cell_type": "code",
   "execution_count": null,
   "metadata": {},
   "outputs": [],
   "source": [
    "make_boxplot(dfs, 'NMI', 'Normalized Mutual Information', '../graphics/preferred_number_of_modules_nmi_de.pdf')"
   ]
  },
  {
   "cell_type": "code",
   "execution_count": null,
   "metadata": {},
   "outputs": [],
   "source": [
    "make_boxplot(dfs, 'Rand', 'Adjusted Rand Index', '../graphics/preferred_number_of_modules_rand_de.pdf')"
   ]
  },
  {
   "cell_type": "markdown",
   "metadata": {
    "pycharm": {
     "name": "#%% md\n"
    }
   },
   "source": [
    "### End\n",
    "\n"
   ]
  }
 ],
 "metadata": {
  "kernelspec": {
   "display_name": "Python 3",
   "language": "python",
   "name": "python3"
  },
  "language_info": {
   "codemirror_mode": {
    "name": "ipython",
    "version": 3
   },
   "file_extension": ".py",
   "mimetype": "text/x-python",
   "name": "python",
   "nbconvert_exporter": "python",
   "pygments_lexer": "ipython3",
   "version": "3.7.5"
  }
 },
 "nbformat": 4,
 "nbformat_minor": 4
}