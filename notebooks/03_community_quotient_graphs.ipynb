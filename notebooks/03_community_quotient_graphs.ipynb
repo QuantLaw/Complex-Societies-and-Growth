{
 "cells": [
  {
   "cell_type": "markdown",
   "metadata": {},
   "source": [
    "## Community Quotient Graphs\n",
    "\n",
    "In this notebook, we mainly create the panels for Figure 4 and the analogue figures in the SI.\n",
    "We also compute the table describing the attribute scaling used in the visualizations."
   ]
  },
  {
   "cell_type": "markdown",
   "source": [
    "### Channel Coding"
   ],
   "metadata": {
    "collapsed": false,
    "pycharm": {
     "name": "#%% md\n"
    }
   }
  },
  {
   "cell_type": "markdown",
   "source": [
    "#### General\n",
    "- `edge color` reflects inter-cluster number of references (raw count, color scaled from 0 to 100)\n",
    "- `node color` (if not grey) reflects cluster family\n",
    "- `node size` reflects number of tokens\n",
    "- `layout` is force-directed, seeded, and computed based on all edges"
   ],
   "metadata": {
    "collapsed": false,
    "pycharm": {
     "name": "#%% md\n"
    }
   }
  },
  {
   "cell_type": "markdown",
   "metadata": {},
   "source": [
    "#### Law Name Graphs by Title (US) or Gesetzesname (DE)\n",
    "- `nodes` are all titles for US, laws with `tokens >= 5000` for DE\n",
    "- `labels` for US are title numbers, for DE are law abbreviations\n",
    "- `size divisor` (number of tokens/size divisor = node size) is 4000 in US (as it is for US and DE in the community quotient graphs) but 100 for DE so we can see stuff\n",
    "\n",
    "> i.e.: sizes BETWEEN countries are NOT comparable for the law name quotient graphs (but they ARE comparable for the community quotient graphs)!"
   ]
  },
  {
   "cell_type": "markdown",
   "metadata": {},
   "source": [
    "#### Chapter Graphs by Chapter (where available)/Title (US) or Buch (where available)/Gesetzesname (DE)\n",
    "- `nodes` with more than `5000` tokens are shown\n",
    "- `labels` are `title/chapter` resp. `lawname/book`, where applicable, else `title` resp. `lawname`\n",
    "(only the labels for the 50 largest nodes are drawn)"
   ]
  },
  {
   "cell_type": "markdown",
   "metadata": {},
   "source": [
    "#### Quotient Graphs by Community IDs for 1994 and 2018, US vs DE\n",
    "- current node drawing thresholds around the 0.9 quantile of community sizes in the US (and seems to work decently for DE, too) \n",
    "- `nodes` with `tokens >= 100000 (1994)` resp. >= `150000 (2018)` are shown"
   ]
  },
  {
   "cell_type": "markdown",
   "metadata": {
    "pycharm": {
     "name": "#%% md\n"
    }
   },
   "source": [
    "### Preparations"
   ]
  },
  {
   "cell_type": "code",
   "execution_count": null,
   "outputs": [],
   "source": [
    "%run de_hue_order_alignment.py"
   ],
   "metadata": {
    "collapsed": false,
    "pycharm": {
     "name": "#%%\n"
    }
   }
  },
  {
   "cell_type": "code",
   "execution_count": null,
   "metadata": {},
   "outputs": [],
   "source": [
    "import numpy as np\n",
    "import seaborn as sns\n",
    "import networkx as nx\n",
    "from matplotlib import pyplot as plt\n",
    "from quantlaw.utils.networkx import quotient_graph, sequence_graph\n",
    "from legal_data_clustering.utils.graph_api import cluster_families, get_clustering_result, add_community_to_graph\n",
    "from legal_data_clustering.utils.nodes_merging import quotient_graph_with_merge"
   ]
  },
  {
   "cell_type": "code",
   "execution_count": null,
   "outputs": [],
   "source": [
    "%matplotlib inline\n",
    "sns.set_style('darkgrid')"
   ],
   "metadata": {
    "collapsed": false,
    "pycharm": {
     "name": "#%%\n"
    }
   }
  },
  {
   "cell_type": "code",
   "execution_count": null,
   "metadata": {
    "collapsed": false,
    "jupyter": {
     "outputs_hidden": false
    },
    "pycharm": {
     "name": "#%%\n"
    }
   },
   "outputs": [],
   "source": [
    "import warnings\n",
    "warnings.filterwarnings('ignore')\n",
    "from matplotlib import cm\n",
    "import pandas as pd\n",
    "\n",
    "min_max_df = pd.DataFrame()"
   ]
  },
  {
   "cell_type": "code",
   "execution_count": null,
   "metadata": {},
   "outputs": [],
   "source": [
    "def internal_references_for_community(G, cG):\n",
    "    community_ids = set(nx.get_node_attributes(G, 'community').values())\n",
    "    assert len(community_ids) > 0\n",
    "    \n",
    "    G_reference_edges = nx.MultiDiGraph()\n",
    "    G_reference_edges.add_nodes_from(G.nodes(data=True))\n",
    "    G_reference_edges.add_edges_from(e for e in G.edges(data=True) if e[-1]['edge_type'] == 'reference')\n",
    "\n",
    "    internat_references = dict()\n",
    "\n",
    "    for com in sorted(community_ids):\n",
    "        com_nodes = [n for n, n_com in G.nodes(data='community') if n_com == com]\n",
    "        G_sub = G_reference_edges.subgraph(com_nodes)\n",
    "        internat_references[com] = len(G_sub.edges)\n",
    "    nx.set_node_attributes(cG, internat_references, 'internal_references')"
   ]
  },
  {
   "cell_type": "code",
   "execution_count": null,
   "metadata": {
    "collapsed": false,
    "jupyter": {
     "outputs_hidden": false
    },
    "pycharm": {
     "name": "#%%\n"
    }
   },
   "outputs": [],
   "source": [
    "def make_weighted(mG):\n",
    "    G = nx.DiGraph()\n",
    "    G.add_nodes_from(mG.nodes(data=True))\n",
    "    for u,v,data in mG.edges(data=True):\n",
    "        w = data['weight'] if 'weight' in data else 1.0\n",
    "        if G.has_edge(u,v):\n",
    "            G[u][v]['weight'] += w\n",
    "        else:\n",
    "            G.add_edge(u, v, weight=w)\n",
    "    return G\n",
    "\n",
    "def extract_lawname_from_nodekey(nodekey, country_code):\n",
    "    \"\"\"\n",
    "    :param nodekey: the key of a node in a statute graph, e.g., the crossreference graph\n",
    "    :param country_code: us|de\n",
    "    :return: the short identifier of the law the node belongs to\n",
    "    \"\"\"\n",
    "    if country_code.lower() == \"de\":\n",
    "        return nodekey.split(\"_\")[1]\n",
    "    else:\n",
    "        return nodekey.split(\"_\")[0]\n",
    "\n",
    "\n",
    "def make_lawname_graph_for_snapshot(snapshot, country_code, weight_threshold, size_threshold, size_divisor):\n",
    "    result = get_clustering_result(f'../../legal-networks-data/{country_code.lower()}/11_cluster_results/{snapshot}_0-0_1-0_-1_a-infomap_n100_m1-0_s0_c1000.json',country_code,'seqitems', path_prefix='../')\n",
    "    G = result.graph\n",
    "    qG = quotient_graph(G, node_attribute='law_name', edge_types=['reference'], root_level=-1, self_loops=True)\n",
    "    qG = make_weighted(qG)\n",
    "    # this label is suitable only for the US case, pass the DE case manually\n",
    "    nx.set_node_attributes(qG, {node_id:node_id.split('-', 1)[0].split(' ')[-1] for node_id in qG.nodes()}, name='label')\n",
    "    nx.set_node_attributes(qG, {node_id:node_size/size_divisor for node_id, node_size in dict(qG.nodes(data='tokens_n', default=0)).items()}, \n",
    "                           name='node_size')\n",
    "    nx.set_node_attributes(qG, {u:w for u,v,w in qG.edges(data='weight') \n",
    "                                if u == v}, name='self_references'\n",
    "                          )\n",
    "    nx.set_node_attributes(qG, {law_name:len([n for n, data in G.nodes(data=True) \n",
    "                                              if data['law_name'] == law_name and data['type'] == 'seqitem'])\n",
    "                                for law_name in qG.nodes()\n",
    "                               }, name='n_seqitems'\n",
    "                          )\n",
    "    nx.set_node_attributes(qG, {law_name:data['self_references']/data['tokens_n'] \n",
    "                                if data.get('self_references',0) > 0 else 0.\n",
    "                                for law_name, data in qG.nodes(data=True)\n",
    "                               }, name='internal_density'\n",
    "                          )\n",
    "    qG.remove_edges_from([(u,v) for u,v,w in qG.edges(data='weight') if w <= weight_threshold])\n",
    "    qG.remove_edges_from([(u,v) for u,v in qG.edges() if u == v])\n",
    "    qG = nx.subgraph(qG, [n for n, size in qG.nodes(data='tokens_n', default=0) if size >= size_threshold])\n",
    "    return qG\n",
    "\n",
    "\n",
    "def make_community_graph_for_snapshot(snapshot, country_code, weight_threshold, size_threshold, size_divisor):\n",
    "    result = get_clustering_result(f'../../legal-networks-data/{country_code.lower()}/11_cluster_results/{snapshot}_0-0_1-0_-1_a-infomap_n100_m1-0_s0_c1000.json',country_code,'seqitems', path_prefix='../')\n",
    "    add_community_to_graph(result)\n",
    "    sG = sequence_graph(result.graph)\n",
    "    cG = quotient_graph(sG, 'community', self_loops=False, root_level=None, )\n",
    "    cG = make_weighted(cG)\n",
    "    cG.remove_edges_from([(u,v) for u,v,w in cG.edges(data='weight') if w <= weight_threshold])\n",
    "    internal_references_for_community(result.graph, cG)\n",
    "    nx.set_node_attributes(cG, nx.get_node_attributes(cG, 'chars_n'), name='community_size')\n",
    "    nx.set_node_attributes(cG, {\n",
    "       n:\n",
    "        cG.nodes[n].get('internal_references', 0)/chars_n if chars_n > 0 else 0\n",
    "        for n, chars_n in nx.get_node_attributes(cG, 'chars_n').items()\n",
    "    }, name='internal_density')\n",
    "    cG = nx.subgraph(cG, [n for n, size in cG.nodes(data='community_size', default=0) if size >= size_threshold])\n",
    "    nx.set_node_attributes(cG, {n:d/size_divisor for n,d in cG.nodes(data='community_size')}, name='node_size')\n",
    "    return cG\n",
    "\n",
    "\n",
    "def make_chapter_graph_for_snapshot(snapshot, country_code, weight_threshold, size_threshold, size_divisor):\n",
    "    G = nx.read_gpickle(f'../../legal-networks-data/{country_code.lower()}/4_crossreference_graph/seqitems/{snapshot}.gpickle.gz')\n",
    "    # making this quotient graph takes too much time, implementation probably inefficient\n",
    "    G, _ = quotient_graph_with_merge(G, self_loops=True, merge_threshold=-1)\n",
    "    # remove all nodes above the chapter level\n",
    "    G.remove_nodes_from(set(e[-1] for e in G.nodes(data='parent_key')))\n",
    "    G.remove_node('root')\n",
    "    G = make_weighted(G)\n",
    "    nx.set_node_attributes(G, {u:w for u,v,w in G.edges(data='weight') \n",
    "                                    if u == v}, name='self_references'\n",
    "                              )\n",
    "    if country_code.lower() == 'de':\n",
    "        node_ids = {\n",
    "            n: extract_lawname_from_nodekey(n,'de') \n",
    "            if data['level'] == 0 \n",
    "            else f'{extract_lawname_from_nodekey(n, \"de\")}/{data[\"heading\"].split(\"Buch\")[0]}Buch' \n",
    "            for n, data in G.nodes(data=True)\n",
    "        }\n",
    "        \n",
    "    else: # assuming 'us'\n",
    "        node_ids = {\n",
    "            # Title number plus chapter/etc. name\n",
    "            n: data['law_name'].split('-')[0].split(' ')[-1] \n",
    "            if data['level'] == 0\n",
    "            else f\"{data['law_name'].split('-', 1)[0].split(' ', 1)[-1]}/{data['heading'].split('-', 1)[0].split(' ', 1)[-1]}\".replace(\"&ndash;\", '-')\n",
    "            for n, data in G.nodes(data=True)\n",
    "        }\n",
    "    nx.set_node_attributes(G, node_ids, name='label')\n",
    "    nx.set_node_attributes(G, {node_id:node_size/size_divisor for node_id, node_size in dict(G.nodes(data='tokens_n', default=0)).items()}, \n",
    "                           name='node_size')\n",
    "    nx.set_node_attributes(G, {law_name:data['self_references']/data['tokens_n'] \n",
    "                                if data.get('self_references',0) > 0 else 0.\n",
    "                                for law_name, data in G.nodes(data=True)\n",
    "                               }, name='internal_density'\n",
    "                          )\n",
    "    G.remove_edges_from([(u,v) for u,v,w in G.edges(data='weight') if w <= weight_threshold])\n",
    "    G.remove_edges_from([(u,v) for u,v in G.edges() if u == v])\n",
    "    G = nx.subgraph(G, [n for n, size in G.nodes(data='tokens_n', default=0) if size >= size_threshold])\n",
    "    return G\n",
    "\n",
    "\n",
    "def sort_edges_by_weight(G, reverse=False, filter_weight=0):\n",
    "    edges_sorted = [e for e in sorted(G.edges(data=True), key=lambda tup:tup[-1]['weight'], reverse=reverse) if e[-1]['weight'] >= filter_weight]\n",
    "    edgeweights_sorted = [e[-1]['weight'] for e in edges_sorted]\n",
    "    return edges_sorted, edgeweights_sorted\n",
    "\n",
    "\n",
    "def sort_nodes_by_size(cG, size_attribute, color_attribute):\n",
    "    nodes_sorted = sorted([(c, data[size_attribute], data[color_attribute]) for c, data in cG.nodes(data=True)],\n",
    "                          key=lambda tup:tup[1], reverse=True\n",
    "                         )\n",
    "    return zip(*nodes_sorted)\n",
    "\n",
    "\n",
    "def plot_community_graph(cG, size_attribute='node_size', color_attribute='internal_density',\n",
    "                         labels=None, close=False, figsize=(16,16), edge_filter_weight=0, \n",
    "                         savepath=None, size_divisor=None,\n",
    "                         cmap=cm.Reds\n",
    "                        ):\n",
    "    assert size_divisor\n",
    "    plt.rcParams['figure.figsize'] = figsize\n",
    "    if labels is None:\n",
    "        labels = {node_id:node_id for node_id in cG.nodes()}\n",
    "    np.random.seed(1234)\n",
    "    pos = nx.fruchterman_reingold_layout(cG, k=2.2) # the seed argument of nx doesn't do its job properly, hence we use numpy\n",
    "    edges_sorted, edgeweights_sorted = sort_edges_by_weight(cG, reverse=False, filter_weight=edge_filter_weight)\n",
    "    nodes_sorted, node_sizes_sorted, node_colors_sorted = sort_nodes_by_size(cG, size_attribute, color_attribute)\n",
    "\n",
    "    min_max_row = dict(\n",
    "        edge_weight_min= min(edgeweights_sorted),\n",
    "        edge_weight_max= max(edgeweights_sorted),\n",
    "        node_size_min= min(node_sizes_sorted)*size_divisor,\n",
    "        node_size_max= max(node_sizes_sorted)*size_divisor,\n",
    "        node_color_min= min(node_colors_sorted),\n",
    "        node_color_max= max(node_colors_sorted)\n",
    "    )\n",
    "    print(min_max_row)\n",
    "\n",
    "    edges = nx.draw_networkx_edges(cG, pos=pos, width=[e/10 for e in edgeweights_sorted],\n",
    "                           edgelist=edges_sorted,\n",
    "                           edge_color=edgeweights_sorted, edge_cmap=cm.Greys,\n",
    "                           edge_vmax=100, edge_vmin=0,arrowstyle='fancy', arrowsize=40, connectionstyle='arc3,rad=0.2',\n",
    "                           #min_source_margin=0, min_target_margin=0, # margins don't seem to work\n",
    "                          )\n",
    "    for i in range(len(edges_sorted)):\n",
    "        # we can set attrs of edges using the setters of FancyArrowPatch\n",
    "        # need to do this, inter alia, b/c alpha is not working in the default drawing function\n",
    "        # https://matplotlib.org/3.1.1/api/_as_gen/matplotlib.patches.FancyArrowPatch.html#matplotlib.patches.FancyArrowPatch\n",
    "        edges[i].set_alpha(0.5)\n",
    "        edges[i].set_linewidth(0)\n",
    "        #edges[i].set_zorder(i)\n",
    "    nodes = nx.draw_networkx_nodes(cG, nodelist=nodes_sorted, pos=pos, node_size=node_sizes_sorted,node_color=node_colors_sorted, \n",
    "                                   cmap=cmap, alpha=0.75)\n",
    "    #for n in sorted([c[0] for c in cG.nodes(data='node_size')], key=lambda c:c[-1], reverse=True):\n",
    "    #    nx.draw_networkx_nodes(cG, nodelist=[n], pos=pos, node_size=node_sizes[n], node_color=[node_colors[n]], cmap=cm.Reds)\n",
    "    nx.draw_networkx_labels(cG, pos=pos, labels=labels)\n",
    "    plt.axis('off')\n",
    "    plt.tight_layout()\n",
    "    if close:\n",
    "        plt.close()\n",
    "    if savepath is not None:\n",
    "        plt.savefig(savepath)\n",
    "    return min_max_row"
   ]
  },
  {
   "cell_type": "code",
   "execution_count": null,
   "metadata": {},
   "outputs": [],
   "source": [
    "def add_cluster_families_to_lawname_graph(qG, cluster_evolution_graph_config, country_code):\n",
    "    C = nx.read_gpickle(f'../../legal-networks-data/{country_code.lower()}/13_cluster_evolution_graph/all_{cluster_evolution_graph_config}.gpickle.gz')\n",
    "    cluster_fam_sorted = cluster_families(C, .15)\n",
    "\n",
    "    family_nodes = {\n",
    "        n: idx\n",
    "        for idx, family in enumerate(cluster_fam_sorted)\n",
    "        for cluster in family\n",
    "        for n in C.nodes[cluster]['nodes_contained'].split(',')\n",
    "    }\n",
    "    nx.set_node_attributes(qG, family_nodes, 'cluster_family')\n",
    "    \n",
    "    nx.set_node_attributes(\n",
    "        qG, \n",
    "        {\n",
    "            n: min(f,20)\n",
    "            for n, f in family_nodes.items()\n",
    "        },\n",
    "        'cluster_family_color'\n",
    "    )\n",
    "    \n",
    "def add_cluster_families_to_community_graph(qG, cluster_evolution_graph_config, country_code, year):\n",
    "    C = nx.read_gpickle(f'../../legal-networks-data/{country_code.lower()}/13_cluster_evolution_graph/all_{cluster_evolution_graph_config}.gpickle.gz')\n",
    "    cluster_fam_sorted = cluster_families(C, .15)\n",
    "    \n",
    "    family_nodes = {\n",
    "        int(cluster.split('_')[1]): idx\n",
    "        for idx, family in enumerate(cluster_fam_sorted)\n",
    "        for cluster in family\n",
    "        if cluster.startswith(year)\n",
    "    }\n",
    "    nx.set_node_attributes(qG, family_nodes, 'cluster_family')\n",
    "    \n",
    "    nx.set_node_attributes(\n",
    "        qG, \n",
    "        {\n",
    "            n: min(f,20)\n",
    "            for n, f in family_nodes.items()\n",
    "        },\n",
    "        'cluster_family_color'\n",
    "    )\n",
    "    \n",
    "def get_labels(qG, n_label_threshold):\n",
    "    nodes_to_label = list(map(lambda tup:tup[0], sorted(list(qG.nodes(data='tokens_n')), key=lambda tup:tup[-1], reverse=True)[:n_label_threshold]))\n",
    "    labels = {q:qG.nodes[q][\"label\"] if q in nodes_to_label  else \"\" for q in qG.nodes()}\n",
    "    return labels"
   ]
  },
  {
   "cell_type": "markdown",
   "metadata": {},
   "source": [
    "### Quotient graphs by Title and Title/Chapter resp. Law Name and Law Name/Book"
   ]
  },
  {
   "cell_type": "code",
   "execution_count": null,
   "metadata": {},
   "outputs": [],
   "source": [
    "cluster_evolution_graph_config = '0-0_1-0_-1_a-infomap_n100_m1-0_s0_c1000'"
   ]
  },
  {
   "cell_type": "code",
   "execution_count": null,
   "metadata": {},
   "outputs": [],
   "source": [
    "n_label_threshold = 50"
   ]
  },
  {
   "cell_type": "markdown",
   "metadata": {},
   "source": [
    "#### US"
   ]
  },
  {
   "cell_type": "code",
   "execution_count": null,
   "metadata": {
    "collapsed": false,
    "jupyter": {
     "outputs_hidden": false
    },
    "pycharm": {
     "name": "#%%\n"
    }
   },
   "outputs": [],
   "source": [
    "country_code = 'us'\n",
    "weight_threshold = 0\n",
    "edge_filter_weight = 0"
   ]
  },
  {
   "cell_type": "code",
   "execution_count": null,
   "metadata": {
    "collapsed": false,
    "jupyter": {
     "outputs_hidden": false
    },
    "pycharm": {
     "name": "#%%\n"
    }
   },
   "outputs": [],
   "source": [
    "snapshot = '1994'"
   ]
  },
  {
   "cell_type": "code",
   "execution_count": null,
   "metadata": {
    "collapsed": false,
    "jupyter": {
     "outputs_hidden": false
    },
    "pycharm": {
     "name": "#%%\n"
    }
   },
   "outputs": [],
   "source": [
    "size_divisor = 4000\n",
    "size_threshold = 0\n",
    "qG = make_lawname_graph_for_snapshot(snapshot, country_code, weight_threshold=weight_threshold, \n",
    "                                     size_threshold=size_threshold, size_divisor=size_divisor)\n",
    "row = plot_community_graph(qG, edge_filter_weight=edge_filter_weight, size_attribute='node_size', labels=dict(qG.nodes(data='label')),\n",
    "                    savepath=f'../graphics/lawname-graph-{snapshot}-{country_code.lower()}.pdf', size_divisor=size_divisor\n",
    "                    )\n",
    "min_max_df = min_max_df.append(dict(country_code=country_code, snapshot=snapshot, graph_type='lawname', **row), ignore_index=True)"
   ]
  },
  {
   "cell_type": "code",
   "execution_count": null,
   "metadata": {
    "pycharm": {
     "name": "#%%\n"
    }
   },
   "outputs": [],
   "source": [
    "size_divisor = 100\n",
    "size_threshold = 5000\n",
    "qG = make_chapter_graph_for_snapshot(snapshot, country_code, weight_threshold=weight_threshold, \n",
    "                                     size_threshold=size_threshold, size_divisor=size_divisor)\n",
    "add_cluster_families_to_lawname_graph(qG, cluster_evolution_graph_config, country_code)"
   ]
  },
  {
   "cell_type": "code",
   "execution_count": null,
   "metadata": {},
   "outputs": [],
   "source": [
    "labels = get_labels(qG, n_label_threshold)"
   ]
  },
  {
   "cell_type": "code",
   "execution_count": null,
   "metadata": {
    "collapsed": false,
    "jupyter": {
     "outputs_hidden": false
    },
    "pycharm": {
     "name": "#%%\n"
    }
   },
   "outputs": [],
   "source": [
    "row = plot_community_graph(qG, edge_filter_weight=edge_filter_weight, size_attribute='node_size', labels=labels,\n",
    "                    savepath=f'../graphics/chapter-graph-{snapshot}-{country_code.lower()}.pdf', size_divisor=size_divisor,\n",
    "                    color_attribute='cluster_family_color', cmap=cluster_family_plt_colors(country_code)\n",
    "                    )\n",
    "min_max_df = min_max_df.append(dict(country_code=country_code, snapshot=snapshot, graph_type='chapter', **row), ignore_index=True)"
   ]
  },
  {
   "cell_type": "code",
   "execution_count": null,
   "metadata": {
    "collapsed": false,
    "jupyter": {
     "outputs_hidden": false
    },
    "pycharm": {
     "name": "#%%\n"
    }
   },
   "outputs": [],
   "source": [
    "snapshot = '2018'"
   ]
  },
  {
   "cell_type": "code",
   "execution_count": null,
   "metadata": {
    "collapsed": false,
    "jupyter": {
     "outputs_hidden": false
    },
    "pycharm": {
     "name": "#%%\n"
    }
   },
   "outputs": [],
   "source": [
    "size_divisor = 4000\n",
    "size_threshold = 0\n",
    "qG = make_lawname_graph_for_snapshot(snapshot, country_code, weight_threshold=weight_threshold, \n",
    "                                     size_threshold=size_threshold, size_divisor=size_divisor)\n",
    "row = plot_community_graph(qG, edge_filter_weight=edge_filter_weight, size_attribute='node_size', labels=dict(qG.nodes(data='label')),\n",
    "                    savepath=f'../graphics/lawname-graph-{snapshot}-{country_code.lower()}.pdf', size_divisor=size_divisor\n",
    "                    )\n",
    "min_max_df = min_max_df.append(dict(country_code=country_code, snapshot=snapshot, graph_type='lawname', **row), ignore_index=True)"
   ]
  },
  {
   "cell_type": "code",
   "execution_count": null,
   "metadata": {
    "collapsed": false,
    "jupyter": {
     "outputs_hidden": false
    },
    "pycharm": {
     "name": "#%%\n"
    }
   },
   "outputs": [],
   "source": [
    "size_divisor = 100\n",
    "size_threshold = 5000\n",
    "qG = make_chapter_graph_for_snapshot(snapshot, country_code, weight_threshold=weight_threshold, \n",
    "                                     size_threshold=size_threshold, size_divisor=size_divisor)\n",
    "add_cluster_families_to_lawname_graph(qG, cluster_evolution_graph_config, country_code)"
   ]
  },
  {
   "cell_type": "code",
   "execution_count": null,
   "metadata": {},
   "outputs": [],
   "source": [
    "labels = get_labels(qG, n_label_threshold)"
   ]
  },
  {
   "cell_type": "code",
   "execution_count": null,
   "metadata": {
    "collapsed": false,
    "jupyter": {
     "outputs_hidden": false
    },
    "pycharm": {
     "name": "#%%\n"
    }
   },
   "outputs": [],
   "source": [
    "row = plot_community_graph(qG, edge_filter_weight=edge_filter_weight, size_attribute='node_size', labels=labels,\n",
    "                    savepath=f'../graphics/chapter-graph-{snapshot}-{country_code.lower()}.pdf', size_divisor=size_divisor,\n",
    "                    color_attribute='cluster_family_color', cmap=cluster_family_plt_colors(country_code)\n",
    "                    )\n",
    "min_max_df = min_max_df.append(dict(country_code=country_code, snapshot=snapshot, graph_type='chapter', **row), ignore_index=True)"
   ]
  },
  {
   "cell_type": "markdown",
   "metadata": {},
   "source": [
    "#### DE"
   ]
  },
  {
   "cell_type": "code",
   "execution_count": null,
   "metadata": {
    "collapsed": false,
    "jupyter": {
     "outputs_hidden": false
    },
    "pycharm": {
     "name": "#%%\n"
    }
   },
   "outputs": [],
   "source": [
    "country_code = 'de'\n",
    "weight_threshold = 0\n",
    "edge_filter_weight = 0"
   ]
  },
  {
   "cell_type": "code",
   "execution_count": null,
   "metadata": {
    "collapsed": false,
    "jupyter": {
     "outputs_hidden": false
    },
    "pycharm": {
     "name": "#%%\n"
    }
   },
   "outputs": [],
   "source": [
    "snapshot = '1994-01-01'"
   ]
  },
  {
   "cell_type": "code",
   "execution_count": null,
   "metadata": {
    "collapsed": false,
    "jupyter": {
     "outputs_hidden": false
    },
    "pycharm": {
     "name": "#%%\n"
    }
   },
   "outputs": [],
   "source": [
    "size_divisor = 100\n",
    "size_threshold = 5000\n",
    "qG = make_lawname_graph_for_snapshot(snapshot, country_code, weight_threshold=weight_threshold, \n",
    "                                     size_threshold=size_threshold, size_divisor=size_divisor)\n",
    "labels = {x:key.split('_',2)[1] for x, key in qG.nodes(data='key')}\n",
    "row = plot_community_graph(qG, edge_filter_weight=edge_filter_weight, size_attribute='node_size', labels=labels,\n",
    "                    savepath=f'../graphics/lawname-graph-{snapshot[:4]}-{country_code.lower()}.pdf', size_divisor=size_divisor\n",
    "                    )\n",
    "min_max_df = min_max_df.append(dict(country_code=country_code, snapshot=snapshot, graph_type='lawname', **row), ignore_index=True)"
   ]
  },
  {
   "cell_type": "code",
   "execution_count": null,
   "metadata": {
    "collapsed": false,
    "jupyter": {
     "outputs_hidden": false
    },
    "pycharm": {
     "name": "#%%\n"
    }
   },
   "outputs": [],
   "source": [
    "size_divisor = 100\n",
    "size_threshold = 5000\n",
    "qG = make_chapter_graph_for_snapshot(snapshot, country_code, weight_threshold=weight_threshold, \n",
    "                                     size_threshold=size_threshold, size_divisor=size_divisor)\n",
    "add_cluster_families_to_lawname_graph(qG, cluster_evolution_graph_config, country_code)"
   ]
  },
  {
   "cell_type": "code",
   "execution_count": null,
   "metadata": {},
   "outputs": [],
   "source": [
    "labels = get_labels(qG, n_label_threshold)"
   ]
  },
  {
   "cell_type": "code",
   "execution_count": null,
   "metadata": {
    "collapsed": false,
    "jupyter": {
     "outputs_hidden": false
    },
    "pycharm": {
     "name": "#%%\n"
    }
   },
   "outputs": [],
   "source": [
    "row = plot_community_graph(qG, edge_filter_weight=edge_filter_weight, size_attribute='node_size', labels=labels,\n",
    "                    savepath=f'../graphics/chapter-graph-{snapshot[:4]}-{country_code.lower()}.pdf', size_divisor=size_divisor,\n",
    "                    color_attribute='cluster_family_color', cmap=cluster_family_plt_colors(country_code)\n",
    "                    )\n",
    "min_max_df = min_max_df.append(dict(country_code=country_code, snapshot=snapshot, graph_type='chapter', **row), ignore_index=True)"
   ]
  },
  {
   "cell_type": "code",
   "execution_count": null,
   "metadata": {
    "collapsed": false,
    "jupyter": {
     "outputs_hidden": false
    },
    "pycharm": {
     "name": "#%%\n"
    }
   },
   "outputs": [],
   "source": [
    "snapshot = '2018-01-01'"
   ]
  },
  {
   "cell_type": "code",
   "execution_count": null,
   "metadata": {
    "collapsed": false,
    "jupyter": {
     "outputs_hidden": false
    },
    "pycharm": {
     "name": "#%%\n"
    }
   },
   "outputs": [],
   "source": [
    "size_divisor = 100\n",
    "size_threshold = 5000\n",
    "qG = make_lawname_graph_for_snapshot(snapshot, country_code, weight_threshold=weight_threshold, \n",
    "                                     size_threshold=size_threshold, size_divisor=size_divisor)\n",
    "labels = {x:key.split('_',2)[1] for x, key in qG.nodes(data='key')}\n",
    "row = plot_community_graph(qG, edge_filter_weight=edge_filter_weight, size_attribute='node_size', labels=labels,\n",
    "                    savepath=f'../graphics/lawname-graph-{snapshot[:4]}-{country_code}.pdf', size_divisor=size_divisor\n",
    "                    )\n",
    "min_max_df = min_max_df.append(dict(country_code=country_code, snapshot=snapshot, graph_type='lawname', **row), ignore_index=True)"
   ]
  },
  {
   "cell_type": "code",
   "execution_count": null,
   "metadata": {
    "collapsed": false,
    "jupyter": {
     "outputs_hidden": false
    },
    "pycharm": {
     "name": "#%%\n"
    }
   },
   "outputs": [],
   "source": [
    "size_divisor = 100\n",
    "size_threshold = 5000\n",
    "qG = make_chapter_graph_for_snapshot(snapshot, country_code, weight_threshold=weight_threshold, \n",
    "                                     size_threshold=size_threshold, size_divisor=size_divisor)\n",
    "add_cluster_families_to_lawname_graph(qG, cluster_evolution_graph_config, country_code)"
   ]
  },
  {
   "cell_type": "code",
   "execution_count": null,
   "metadata": {},
   "outputs": [],
   "source": [
    "labels = get_labels(qG, n_label_threshold)\n",
    "for (k,v) in labels.items():\n",
    "    if ('_BGB_' in k or '_ZPO_' in k) and v:\n",
    "        labels[k] = f\"{labels[k].split('/')[0]}/{' '.join(qG.nodes[k]['heading'].split(' ')[:2])}\""
   ]
  },
  {
   "cell_type": "code",
   "execution_count": null,
   "metadata": {
    "collapsed": false,
    "jupyter": {
     "outputs_hidden": false
    },
    "pycharm": {
     "name": "#%%\n"
    }
   },
   "outputs": [],
   "source": [
    "row = plot_community_graph(qG, edge_filter_weight=edge_filter_weight, size_attribute='node_size', labels=labels,\n",
    "                    savepath=f'../graphics/chapter-graph-{snapshot[:4]}-{country_code}.pdf', size_divisor=size_divisor,\n",
    "                    color_attribute='cluster_family_color', cmap=cluster_family_plt_colors(country_code)\n",
    "                    )\n",
    "min_max_df = min_max_df.append(dict(country_code=country_code, snapshot=snapshot, graph_type='chapter', **row), ignore_index=True)"
   ]
  },
  {
   "cell_type": "markdown",
   "metadata": {},
   "source": [
    "### Quotient graphs by community"
   ]
  },
  {
   "cell_type": "code",
   "execution_count": null,
   "metadata": {
    "collapsed": false,
    "jupyter": {
     "outputs_hidden": false
    },
    "pycharm": {
     "name": "#%%\n"
    }
   },
   "outputs": [],
   "source": [
    "edge_filter_weight = 0\n",
    "weight_threshold = 0\n",
    "size_divisor = 4000"
   ]
  },
  {
   "cell_type": "markdown",
   "metadata": {},
   "source": [
    "#### US"
   ]
  },
  {
   "cell_type": "code",
   "execution_count": null,
   "metadata": {
    "collapsed": false,
    "jupyter": {
     "outputs_hidden": false
    },
    "pycharm": {
     "name": "#%%\n"
    }
   },
   "outputs": [],
   "source": [
    "country_code = 'us'"
   ]
  },
  {
   "cell_type": "code",
   "execution_count": null,
   "metadata": {
    "collapsed": false,
    "jupyter": {
     "outputs_hidden": false
    },
    "pycharm": {
     "name": "#%%\n"
    }
   },
   "outputs": [],
   "source": [
    "snapshot = '1994'"
   ]
  },
  {
   "cell_type": "code",
   "execution_count": null,
   "metadata": {
    "collapsed": false,
    "jupyter": {
     "outputs_hidden": false
    },
    "pycharm": {
     "name": "#%%\n"
    }
   },
   "outputs": [],
   "source": [
    "size_threshold = 100000\n",
    "cG = make_community_graph_for_snapshot(snapshot, country_code, weight_threshold=weight_threshold, \n",
    "                                       size_threshold=size_threshold, size_divisor=size_divisor)\n",
    "add_cluster_families_to_community_graph(cG, cluster_evolution_graph_config, country_code, snapshot)\n",
    "row = plot_community_graph(cG, size_attribute='node_size', edge_filter_weight=edge_filter_weight,\n",
    "                    savepath=f'../graphics/community-graph-{snapshot}-{country_code}.pdf', size_divisor=size_divisor,\n",
    "                    color_attribute='cluster_family_color', cmap=cluster_family_plt_colors(country_code)\n",
    "                    )\n",
    "min_max_df = min_max_df.append(dict(country_code=country_code, snapshot=snapshot, graph_type='community', **row), ignore_index=True)"
   ]
  },
  {
   "cell_type": "code",
   "execution_count": null,
   "metadata": {
    "collapsed": false,
    "jupyter": {
     "outputs_hidden": false
    },
    "pycharm": {
     "name": "#%%\n"
    }
   },
   "outputs": [],
   "source": [
    "snapshot = '2018'"
   ]
  },
  {
   "cell_type": "code",
   "execution_count": null,
   "metadata": {
    "collapsed": false,
    "jupyter": {
     "outputs_hidden": false
    },
    "pycharm": {
     "name": "#%%\n"
    }
   },
   "outputs": [],
   "source": [
    "size_threshold = 150000\n",
    "cG = make_community_graph_for_snapshot(snapshot, country_code, weight_threshold=weight_threshold, \n",
    "                                       size_threshold=size_threshold, size_divisor=size_divisor)\n",
    "add_cluster_families_to_community_graph(cG, cluster_evolution_graph_config, country_code, snapshot)\n",
    "row = plot_community_graph(cG, size_attribute='node_size', edge_filter_weight=edge_filter_weight,\n",
    "                     savepath=f'../graphics/community-graph-{snapshot}-{country_code}.pdf', size_divisor=size_divisor,\n",
    "                    color_attribute='cluster_family_color', cmap=cluster_family_plt_colors(country_code)\n",
    "                    )\n",
    "min_max_df = min_max_df.append(dict(country_code=country_code, snapshot=snapshot, graph_type='community', **row), ignore_index=True)"
   ]
  },
  {
   "cell_type": "markdown",
   "metadata": {},
   "source": [
    "#### DE"
   ]
  },
  {
   "cell_type": "code",
   "execution_count": null,
   "metadata": {
    "collapsed": false,
    "jupyter": {
     "outputs_hidden": false
    },
    "pycharm": {
     "name": "#%%\n"
    }
   },
   "outputs": [],
   "source": [
    "country_code = 'de'"
   ]
  },
  {
   "cell_type": "code",
   "execution_count": null,
   "metadata": {
    "collapsed": false,
    "jupyter": {
     "outputs_hidden": false
    },
    "pycharm": {
     "name": "#%%\n"
    }
   },
   "outputs": [],
   "source": [
    "snapshot = '1994-01-01'"
   ]
  },
  {
   "cell_type": "code",
   "execution_count": null,
   "metadata": {
    "collapsed": false,
    "jupyter": {
     "outputs_hidden": false
    },
    "pycharm": {
     "name": "#%%\n"
    }
   },
   "outputs": [],
   "source": [
    "size_threshold = 100000\n",
    "cG = make_community_graph_for_snapshot(snapshot, country_code, weight_threshold=weight_threshold, \n",
    "                                       size_threshold=size_threshold, size_divisor=size_divisor)\n",
    "add_cluster_families_to_community_graph(cG, cluster_evolution_graph_config, country_code, snapshot)\n",
    "row = plot_community_graph(cG, size_attribute='node_size', edge_filter_weight=edge_filter_weight,\n",
    "                    savepath=f'../graphics/community-graph-{snapshot[:4]}-{country_code}.pdf', size_divisor=size_divisor,\n",
    "                    color_attribute='cluster_family_color', cmap=cluster_family_plt_colors(country_code)\n",
    "                    )\n",
    "min_max_df = min_max_df.append(dict(country_code=country_code, snapshot=snapshot, graph_type='community', **row), ignore_index=True)"
   ]
  },
  {
   "cell_type": "code",
   "execution_count": null,
   "metadata": {
    "collapsed": false,
    "jupyter": {
     "outputs_hidden": false
    },
    "pycharm": {
     "name": "#%%\n"
    }
   },
   "outputs": [],
   "source": [
    "snapshot = '2018-01-01'"
   ]
  },
  {
   "cell_type": "code",
   "execution_count": null,
   "metadata": {
    "collapsed": false,
    "jupyter": {
     "outputs_hidden": false
    },
    "pycharm": {
     "name": "#%%\n"
    }
   },
   "outputs": [],
   "source": [
    "size_threshold = 150000\n",
    "cG = make_community_graph_for_snapshot(snapshot, country_code, weight_threshold=weight_threshold, \n",
    "                                       size_threshold=size_threshold, size_divisor=size_divisor)\n",
    "add_cluster_families_to_community_graph(cG, cluster_evolution_graph_config, country_code, snapshot)\n",
    "row = plot_community_graph(cG, size_attribute='node_size', edge_filter_weight=edge_filter_weight,\n",
    "                     savepath=f'../graphics/community-graph-{snapshot[:4]}-{country_code}.pdf', size_divisor=size_divisor,\n",
    "                    color_attribute='cluster_family_color', cmap=cluster_family_plt_colors(country_code)\n",
    "                    )\n",
    "min_max_df = min_max_df.append(dict(country_code=country_code, snapshot=snapshot, graph_type='community', **row), ignore_index=True)"
   ]
  },
  {
   "cell_type": "markdown",
   "metadata": {},
   "source": [
    "### Min-max-table output"
   ]
  },
  {
   "cell_type": "code",
   "execution_count": null,
   "metadata": {},
   "outputs": [],
   "source": [
    "min_max_df.to_csv(f'../graphics/graph-min-max.csv', index=False)"
   ]
  },
  {
   "cell_type": "code",
   "execution_count": null,
   "metadata": {},
   "outputs": [],
   "source": [
    "min_max_df = pd.read_csv(f'../graphics/graph-min-max.csv')\n",
    "min_max_df.graph_type = [g.capitalize() for g in min_max_df.graph_type]\n",
    "min_max_df.snapshot = [s[:4] for s in min_max_df.snapshot]\n",
    "min_max_df.country_code = [c.upper() for c in min_max_df.country_code]\n",
    "min_max_df.edge_weight_max = min_max_df.edge_weight_max.astype('int64')\n",
    "min_max_df.edge_weight_min = min_max_df.edge_weight_min.astype('int64')\n",
    "min_max_df.node_size_max = min_max_df.node_size_max.astype('int64')\n",
    "min_max_df.node_size_min = min_max_df.node_size_min.astype('int64')"
   ]
  },
  {
   "cell_type": "code",
   "execution_count": null,
   "metadata": {},
   "outputs": [],
   "source": [
    "sorted_columns = sorted(min_max_df.columns, key=lambda c: {\n",
    "    'graph_type': 'a',\n",
    "    'country_code': 'b',\n",
    "    'snapshot': 'c',\n",
    "}.get(c, 'x') + c.replace(' min', ' amin'))\n",
    "min_max_df = min_max_df[sorted_columns]\n",
    "min_max_df = min_max_df[min_max_df.graph_type != 'Lawname']\n",
    "min_max_df.columns = [c+'.' if c.endswith('max') or c.endswith('min') else c for c in min_max_df.columns] \n",
    "min_max_df.columns = ['\\multicolumn{1}{p{20mm}}{\\centering ' + c.replace('_', ' ').capitalize().replace(' ', '\\\\\\\\') + '}' for c in min_max_df.columns]"
   ]
  },
  {
   "cell_type": "code",
   "execution_count": null,
   "metadata": {},
   "outputs": [],
   "source": [
    "with open(f'../graphics/graph-min-max-table.tex', 'w') as f:\n",
    "    min_max_df[[c for c in min_max_df.columns if 'color' not in c]].to_latex(f, escape=False, index=False)"
   ]
  },
  {
   "cell_type": "markdown",
   "metadata": {
    "pycharm": {
     "name": "#%% md\n"
    }
   },
   "source": [
    "### End"
   ]
  }
 ],
 "metadata": {
  "kernelspec": {
   "display_name": "Python 3",
   "language": "python",
   "name": "python3"
  },
  "language_info": {
   "codemirror_mode": {
    "name": "ipython",
    "version": 3
   },
   "file_extension": ".py",
   "mimetype": "text/x-python",
   "name": "python",
   "nbconvert_exporter": "python",
   "pygments_lexer": "ipython3",
   "version": "3.7.5"
  }
 },
 "nbformat": 4,
 "nbformat_minor": 4
}