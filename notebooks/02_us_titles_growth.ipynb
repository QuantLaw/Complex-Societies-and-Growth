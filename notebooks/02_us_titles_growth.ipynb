{
 "cells": [
  {
   "cell_type": "markdown",
   "metadata": {},
   "source": [
    "## US Titles Growth\n",
    "\n",
    "In this notebook, we mainly create Figure 3 (growth of US Titles from 1994 to 2018 measured in tokens).\n",
    "We also create the analogue figures for other growth measures that are presented in the SI\n",
    "and explore some other statistics not discussed in the paper."
   ]
  },
  {
   "cell_type": "markdown",
   "source": [
    "### Preparations"
   ],
   "metadata": {
    "collapsed": false,
    "pycharm": {
     "name": "#%% md\n"
    }
   }
  },
  {
   "cell_type": "code",
   "execution_count": null,
   "metadata": {},
   "outputs": [],
   "source": [
    "from collections import Counter\n",
    "import seaborn as sns\n",
    "import networkx as nx\n",
    "import pandas as pd\n",
    "from matplotlib import pyplot as plt\n",
    "from quantlaw.utils.networkx import quotient_graph"
   ]
  },
  {
   "cell_type": "code",
   "execution_count": null,
   "outputs": [],
   "source": [
    "%matplotlib inline\n",
    "sns.set_style('darkgrid')"
   ],
   "metadata": {
    "collapsed": false,
    "pycharm": {
     "name": "#%%\n"
    }
   }
  },
  {
   "cell_type": "code",
   "execution_count": null,
   "metadata": {},
   "outputs": [],
   "source": [
    "Gs = {}\n",
    "for year in range(1994, 2019):\n",
    "    Gs[year] = [n for n in nx.read_gpickle(f'../../legal-networks-data/us/4_crossreference_graph/seqitems/{year}.gpickle.gz').nodes(data=True)\n",
    "                if n[-1]['level'] == 0]"
   ]
  },
  {
   "cell_type": "code",
   "execution_count": null,
   "metadata": {},
   "outputs": [],
   "source": [
    "df = pd.DataFrame(columns=['title', 'name', 'tokens_n', 'year'])\n",
    "for year, titles in Gs.items(): \n",
    "    for title in titles:\n",
    "        df.loc[len(df)] = [int(title[0].split('_')[0][:-1]), title[-1]['heading'], title[-1]['tokens_n'], year]"
   ]
  },
  {
   "cell_type": "markdown",
   "metadata": {},
   "source": [
    "### Name changes in Titles"
   ]
  },
  {
   "cell_type": "code",
   "execution_count": null,
   "metadata": {},
   "outputs": [],
   "source": [
    "df.groupby([df.title, df.name]).count()"
   ]
  },
  {
   "cell_type": "markdown",
   "metadata": {
    "pycharm": {
     "name": "#%% md\n"
    }
   },
   "source": [
    "### Tokens per Title"
   ]
  },
  {
   "cell_type": "code",
   "execution_count": null,
   "outputs": [],
   "source": [
    "growth_df = df.pivot(index='year', columns='title', values='tokens_n')"
   ],
   "metadata": {
    "collapsed": false,
    "pycharm": {
     "name": "#%%\n"
    }
   }
  },
  {
   "cell_type": "code",
   "execution_count": null,
   "metadata": {},
   "outputs": [],
   "source": [
    "plt.rcParams['figure.figsize'] = (32,12)\n",
    "plt.rcParams['font.size'] = 24\n",
    "growth_df.T[[x for x in range(1994, 2019, 4)]].T.sort_index(ascending=False).plot.barh(stacked=True, legend='upper left')\n",
    "plt.xlabel('Number of tokens')\n",
    "plt.ylabel('Year')\n",
    "plt.legend(title='Title', fontsize=19, loc='upper right', ncol=5)\n",
    "plt.tight_layout()\n",
    "plt.savefig('../graphics/us-tokens-per-title.pdf')"
   ]
  },
  {
   "cell_type": "markdown",
   "metadata": {},
   "source": [
    "### Absolute and relative token growth from 1994 to 2018"
   ]
  },
  {
   "cell_type": "code",
   "execution_count": null,
   "metadata": {},
   "outputs": [],
   "source": [
    "growth_df.loc[1994]"
   ]
  },
  {
   "cell_type": "code",
   "execution_count": null,
   "metadata": {},
   "outputs": [],
   "source": [
    "((growth_df.loc[2018] - growth_df.loc[1994]).fillna(0)).sort_values()"
   ]
  },
  {
   "cell_type": "code",
   "execution_count": null,
   "metadata": {},
   "outputs": [],
   "source": [
    "((growth_df.loc[2018] - growth_df.loc[1994]).fillna(0) / growth_df.loc[1994].fillna(0.1)).sort_values()"
   ]
  },
  {
   "cell_type": "markdown",
   "metadata": {},
   "source": [
    "### Other visualization options for tokens per Title"
   ]
  },
  {
   "cell_type": "code",
   "execution_count": null,
   "metadata": {},
   "outputs": [],
   "source": [
    "plt.rcParams['figure.figsize'] = (24,12.5)\n",
    "growth_df.sort_index(ascending=False).plot.barh(stacked=True, legend='upper left')\n",
    "plt.xlabel('Number of tokens')\n",
    "plt.ylabel('Year')\n",
    "plt.legend(title='Title')\n",
    "plt.tight_layout()"
   ]
  },
  {
   "cell_type": "code",
   "execution_count": null,
   "metadata": {},
   "outputs": [],
   "source": [
    "reldf = growth_df.div(growth_df.fillna(0).sum(axis=1), axis='rows')\n",
    "reldf.head()"
   ]
  },
  {
   "cell_type": "code",
   "execution_count": null,
   "metadata": {},
   "outputs": [],
   "source": [
    "reldf.sort_index(ascending=False).plot.barh(stacked=True, legend='upper right')\n",
    "plt.xlim(0,1.1)\n",
    "plt.xlabel('Fraction of characters')\n",
    "plt.ylabel('Year')\n",
    "plt.tight_layout()"
   ]
  },
  {
   "cell_type": "markdown",
   "metadata": {},
   "source": [
    "### Cross-references"
   ]
  },
  {
   "cell_type": "code",
   "execution_count": null,
   "metadata": {},
   "outputs": [],
   "source": [
    "def make_ordered_multigraph(G):\n",
    "    SG = nx.OrderedMultiDiGraph()\n",
    "    SG.add_nodes_from(sorted(G.nodes))\n",
    "    SG.add_edges_from((u, v, data) for (u, v, data) in G.edges(data=True) if u in SG if v in SG)\n",
    "    return SG\n",
    "\n",
    "def make_ordered_quotient_graph(G, self_loops=False):\n",
    "    qG = quotient_graph(G, 'law_name', edge_types=['reference'], self_loops=self_loops)\n",
    "    nx.set_node_attributes(G, {title:title for title in qG.nodes})\n",
    "    qG = nx.relabel_nodes(qG, {title:int(title.split('-', 1)[0].split(' ')[-1]) for title in qG.nodes})\n",
    "    SG = make_ordered_multigraph(qG)\n",
    "    return SG"
   ]
  },
  {
   "cell_type": "markdown",
   "metadata": {},
   "source": [
    "#### Cross-reference heatmaps for individual years"
   ]
  },
  {
   "cell_type": "code",
   "execution_count": null,
   "metadata": {},
   "outputs": [],
   "source": [
    "G = nx.read_gpickle(f'../../legal-networks-data/us/4_crossreference_graph/seqitems/{2017}.gpickle.gz')\n",
    "SG = make_ordered_quotient_graph(G, self_loops=True)\n",
    "sns.heatmap(nx.adjacency_matrix(SG).todense(), square=True, \n",
    "            vmin=0, vmax=100,#robust=True, \n",
    "            xticklabels=SG.nodes, yticklabels=SG.nodes);"
   ]
  },
  {
   "cell_type": "markdown",
   "metadata": {},
   "source": [
    "### In- and Out-Degree, Internal References per Title"
   ]
  },
  {
   "cell_type": "code",
   "execution_count": null,
   "metadata": {},
   "outputs": [],
   "source": [
    "def make_degree_dfs(self_loops=False):\n",
    "    indegree_df = pd.DataFrame(columns=range(1,55))\n",
    "    outdegree_df = pd.DataFrame(columns=range(1,55))\n",
    "    for year in range(1994,2019):\n",
    "        G = nx.read_gpickle(f'../../legal-networks-data/us/4_crossreference_graph/seqitems/{year}.gpickle.gz')\n",
    "        SG = make_ordered_quotient_graph(G, self_loops=self_loops)\n",
    "        indegree_df.loc[year] = [SG.in_degree(n) if n in SG.nodes else 0 for n in range(1,55)]\n",
    "        outdegree_df.loc[year] = [SG.out_degree(n) if n in SG.nodes else 0 for n in range(1,55)]\n",
    "    indegree_df = indegree_df.T[indegree_df.any(axis=0)].T\n",
    "    outdegree_df = outdegree_df.T[outdegree_df.any(axis=0)].T\n",
    "    return indegree_df, outdegree_df"
   ]
  },
  {
   "cell_type": "code",
   "execution_count": null,
   "metadata": {},
   "outputs": [],
   "source": [
    "indegree_df_with_selfloops, outdegree_df_with_selfloops = make_degree_dfs(self_loops=True)"
   ]
  },
  {
   "cell_type": "code",
   "execution_count": null,
   "metadata": {},
   "outputs": [],
   "source": [
    "indegree_df, outdegree_df = make_degree_dfs(self_loops=False)"
   ]
  },
  {
   "cell_type": "code",
   "execution_count": null,
   "metadata": {},
   "outputs": [],
   "source": [
    "internal_ref_df = indegree_df_with_selfloops - indegree_df"
   ]
  },
  {
   "cell_type": "markdown",
   "metadata": {},
   "source": [
    "#### Title self-references"
   ]
  },
  {
   "cell_type": "code",
   "execution_count": null,
   "metadata": {},
   "outputs": [],
   "source": [
    "plt.rcParams['figure.figsize'] = (32,12)\n",
    "plt.rcParams['font.size'] = 20\n",
    "internal_ref_df.T[[x for x in range(1994, 2019, 4)]].T.sort_index(ascending=False).plot.barh(stacked=True)\n",
    "plt.legend(title='Title', fontsize=16, loc='upper right', ncol=3)\n",
    "plt.xticks(range(0,70000,5000))\n",
    "plt.xlim(0,65000)\n",
    "plt.xlabel('Internal references')\n",
    "plt.ylabel('Year')\n",
    "plt.tight_layout()\n",
    "plt.savefig('../graphics/us-internal-references-per-title.pdf')"
   ]
  },
  {
   "cell_type": "markdown",
   "metadata": {},
   "source": [
    "#### Title in-degree"
   ]
  },
  {
   "cell_type": "code",
   "execution_count": null,
   "metadata": {},
   "outputs": [],
   "source": [
    "plt.rcParams['figure.figsize'] = (32,12)\n",
    "plt.rcParams['font.size'] = 20\n",
    "indegree_df.T[[x for x in range(1994, 2019, 4)]].T.sort_index(ascending=False).plot.barh(stacked=True)\n",
    "plt.legend(title='Title', fontsize=16, loc='upper right', ncol=3)\n",
    "plt.xticks(range(0,25000,1000))\n",
    "plt.xlim(0,22000)\n",
    "plt.xlabel('References incoming from other titles')\n",
    "plt.ylabel('Year')\n",
    "plt.tight_layout()\n",
    "plt.savefig('../graphics/us-indegree-per-title.pdf')"
   ]
  },
  {
   "cell_type": "markdown",
   "metadata": {},
   "source": [
    "#### Title out-degree"
   ]
  },
  {
   "cell_type": "code",
   "execution_count": null,
   "metadata": {},
   "outputs": [],
   "source": [
    "plt.rcParams['figure.figsize'] = (32,12)\n",
    "plt.rcParams['font.size'] = 20\n",
    "outdegree_df.T[[x for x in range(1994, 2019, 4)]].T.sort_index(ascending=False).plot.barh(stacked=True)\n",
    "plt.legend(title='Title', fontsize=16, loc='upper right', ncol=3)\n",
    "plt.xticks(range(0,25000,1000))\n",
    "plt.xlim(0,22000)\n",
    "plt.xlabel('References outgoing to other titles')\n",
    "plt.ylabel('Year')\n",
    "plt.tight_layout()\n",
    "plt.savefig('../graphics/us-outdegree-per-title.pdf')"
   ]
  },
  {
   "cell_type": "markdown",
   "metadata": {},
   "source": [
    "### Number of structures, including subseqitems"
   ]
  },
  {
   "cell_type": "code",
   "execution_count": null,
   "metadata": {},
   "outputs": [],
   "source": [
    "def get_title_number(title):\n",
    "    return int(title.split('-', 1)[0].split(' ')[-1])"
   ]
  },
  {
   "cell_type": "code",
   "execution_count": null,
   "metadata": {},
   "outputs": [],
   "source": [
    "structure_df = pd.DataFrame(columns=range(1,55))\n",
    "for year in range(1994,2019):\n",
    "    G = nx.read_gpickle(f'../../legal-networks-data/us/4_crossreference_graph/subseqitems/{year}.gpickle.gz')\n",
    "    substructures = Counter([law_name for _, law_name in G.nodes(data='law_name') if law_name != 'root'])\n",
    "    substructures = {get_title_number(title): substructures[title] for title in substructures}\n",
    "    structure_df.loc[year] = [substructures[n] if n in substructures else 0 for n in range(1,55)]\n",
    "structure_df = structure_df.T[structure_df.any(axis=0)].T"
   ]
  },
  {
   "cell_type": "code",
   "execution_count": null,
   "metadata": {
    "pycharm": {
     "name": "#%%\n"
    }
   },
   "outputs": [],
   "source": [
    "plt.rcParams['figure.figsize'] = (32,12)\n",
    "plt.rcParams['font.size'] = 20\n",
    "structure_df.T[[x for x in range(1994, 2019, 4)]].T.sort_index(ascending=False).plot.barh(stacked=True)\n",
    "plt.legend(title='Title', fontsize=16, loc='upper right', ncol=3)\n",
    "plt.xticks(range(0,1000000,50000))\n",
    "plt.xlim(0,850000)\n",
    "plt.xlabel('Number of substructures')\n",
    "plt.ylabel('Year')\n",
    "plt.tight_layout()\n",
    "plt.savefig('../graphics/us-structures-with-subseqitems-per-title.pdf')"
   ]
  },
  {
   "cell_type": "markdown",
   "source": [
    "### End"
   ],
   "metadata": {
    "collapsed": false,
    "pycharm": {
     "name": "#%% md\n"
    }
   }
  }
 ],
 "metadata": {
  "kernelspec": {
   "display_name": "Python 3",
   "language": "python",
   "name": "python3"
  },
  "language_info": {
   "codemirror_mode": {
    "name": "ipython",
    "version": 3
   },
   "file_extension": ".py",
   "mimetype": "text/x-python",
   "name": "python",
   "nbconvert_exporter": "python",
   "pygments_lexer": "ipython3",
   "version": "3.7.5"
  }
 },
 "nbformat": 4,
 "nbformat_minor": 4
}