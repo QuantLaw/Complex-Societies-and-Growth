{
 "cells": [
  {
   "cell_type": "markdown",
   "source": [
    "## Summary Statistics\n",
    "\n",
    "In this notebook, we compute the statistics for Table 1 and create Figure 2.\n",
    "We also derive some further statistics, not all of which are discussed in the paper."
   ],
   "metadata": {
    "collapsed": false,
    "pycharm": {
     "name": "#%% md\n"
    }
   }
  },
  {
   "cell_type": "markdown",
   "metadata": {},
   "source": [
    "### Preparation"
   ]
  },
  {
   "cell_type": "code",
   "execution_count": null,
   "metadata": {},
   "outputs": [],
   "source": [
    "from collections import Counter\n",
    "import numpy as np\n",
    "import matplotlib.pyplot as plt\n",
    "import seaborn as sns\n",
    "import networkx as nx\n",
    "from quantlaw.utils.files import list_dir\n",
    "from quantlaw.utils.networkx import induced_subgraph, hierarchy_graph"
   ]
  },
  {
   "cell_type": "code",
   "execution_count": null,
   "outputs": [],
   "source": [
    "%matplotlib inline\n",
    "sns.set_style('darkgrid')"
   ],
   "metadata": {
    "collapsed": false,
    "pycharm": {
     "name": "#%%\n"
    }
   }
  },
  {
   "cell_type": "code",
   "execution_count": null,
   "metadata": {},
   "outputs": [],
   "source": [
    "def abs_to_rel(abs_array):\n",
    "    rel_array = abs_array / abs_array[0]\n",
    "    return rel_array"
   ]
  },
  {
   "cell_type": "code",
   "execution_count": null,
   "metadata": {},
   "outputs": [],
   "source": [
    "def plot_point_statistic(xs, de, us, xlabel, ylabel, savepath=None):\n",
    "    sns.lineplot(x=xs, y=de, color='k', marker='^', markersize=5)\n",
    "    sns.lineplot(x=xs, y=us, color='r', marker='v', markersize=5)\n",
    "    plt.xticks(xs, rotation=45)\n",
    "    plt.xlabel(xlabel)\n",
    "    plt.ylabel(ylabel)\n",
    "    plt.tight_layout()\n",
    "    plt.legend(['DE', 'US'])\n",
    "    if savepath is not None:\n",
    "        plt.savefig(savepath, dpi=1000)"
   ]
  },
  {
   "cell_type": "code",
   "execution_count": null,
   "metadata": {},
   "outputs": [],
   "source": [
    "def plot_two_point_statistics(xs, stat1, stat2, \n",
    "                              xlabel, ylabel, color1, color2, \n",
    "                              savepath=None):\n",
    "    sns.lineplot(x=xs, y=stat1, marker='^', color=color1, markersize=5)\n",
    "    sns.lineplot(x=xs, y=stat2, marker='v', color=color2, markersize=5)\n",
    "    plt.xticks(xs, rotation=45)\n",
    "    plt.xlabel(xlabel)\n",
    "    plt.ylabel(ylabel)\n",
    "    plt.tight_layout()\n",
    "    plt.legend(['Tokens', 'Cross-references'])\n",
    "    if savepath is not None:\n",
    "        plt.savefig(savepath, dpi=1000)"
   ]
  },
  {
   "cell_type": "code",
   "execution_count": null,
   "metadata": {},
   "outputs": [],
   "source": [
    "us_crossreference_path = '../../legal-networks-data/us/4_crossreference_graph/seqitems'\n",
    "de_crossreference_path = '../../legal-networks-data/de/4_crossreference_graph/seqitems'"
   ]
  },
  {
   "cell_type": "code",
   "execution_count": null,
   "metadata": {},
   "outputs": [],
   "source": [
    "de_graph_files = sorted(list_dir(de_crossreference_path, 'gpickle.gz'))\n",
    "de_graphs = [nx.read_gpickle(f'{de_crossreference_path}/{gf}') for gf in de_graph_files]"
   ]
  },
  {
   "cell_type": "code",
   "execution_count": null,
   "metadata": {},
   "outputs": [],
   "source": [
    "us_graph_files = sorted(list_dir(us_crossreference_path, 'gpickle.gz'))\n",
    "us_graphs = [nx.read_gpickle(f'{us_crossreference_path}/{gf}') for gf in us_graph_files]"
   ]
  },
  {
   "cell_type": "code",
   "execution_count": null,
   "metadata": {},
   "outputs": [],
   "source": [
    "years = list(range(1994,1994+min(len(de_graphs),len(us_graphs)))) # usually our xs"
   ]
  },
  {
   "cell_type": "code",
   "execution_count": null,
   "metadata": {},
   "outputs": [],
   "source": [
    "plt.rcParams['figure.figsize'] = (9,6)"
   ]
  },
  {
   "cell_type": "markdown",
   "metadata": {},
   "source": [
    "### Number of tokens (~ \"words\") over time"
   ]
  },
  {
   "cell_type": "code",
   "execution_count": null,
   "metadata": {},
   "outputs": [],
   "source": [
    "de_tokens_n_abs = np.array([sum([ndata['tokens_n'] for n, ndata in G.nodes(data=True) if ndata['level'] == 0])\n",
    "                         for G in de_graphs])\n",
    "de_tokens_n_rel = abs_to_rel(de_tokens_n_abs)"
   ]
  },
  {
   "cell_type": "code",
   "execution_count": null,
   "metadata": {},
   "outputs": [],
   "source": [
    "us_tokens_n_abs = np.array([sum([ndata['tokens_n'] for n, ndata in G.nodes(data=True) if ndata['level'] == 0])\n",
    "                         for G in us_graphs])\n",
    "us_tokens_n_rel = abs_to_rel(us_tokens_n_abs)"
   ]
  },
  {
   "cell_type": "markdown",
   "metadata": {},
   "source": [
    "##### Table 1, Line 1"
   ]
  },
  {
   "cell_type": "code",
   "execution_count": null,
   "metadata": {},
   "outputs": [],
   "source": [
    "print(f'DE #Tokens 1994: {de_tokens_n_abs[0]}, DE #Tokens 2018: {de_tokens_n_abs[-1]}, Ratio: {de_tokens_n_abs[-1] / de_tokens_n_abs[0]}')\n",
    "print(f'US #Tokens 1994: {us_tokens_n_abs[0]}, US #Tokens 2018: {us_tokens_n_abs[-1]}, Ratio: {us_tokens_n_abs[-1] / us_tokens_n_abs[0]}')"
   ]
  },
  {
   "cell_type": "markdown",
   "metadata": {},
   "source": [
    "##### Single-line plots"
   ]
  },
  {
   "cell_type": "code",
   "execution_count": null,
   "metadata": {},
   "outputs": [],
   "source": [
    "plot_point_statistic(years, de_tokens_n_rel, us_tokens_n_rel,\n",
    "                     'Year', f'Tokens relative to {years[0]} baseline',\n",
    "                     savepath='../graphics/tokens-growth-relative.pdf'\n",
    "                    )"
   ]
  },
  {
   "cell_type": "code",
   "execution_count": null,
   "metadata": {},
   "outputs": [],
   "source": [
    "plot_point_statistic(years, de_tokens_n_abs, us_tokens_n_abs,\n",
    "                     'Year', f'Number of tokens',\n",
    "                     savepath='../graphics/tokens-growth-absolute.pdf'\n",
    "                    )"
   ]
  },
  {
   "cell_type": "markdown",
   "metadata": {},
   "source": [
    "### Number of structural elements (aka nodes) over time"
   ]
  },
  {
   "cell_type": "markdown",
   "metadata": {},
   "source": [
    "#### Without subseqitems"
   ]
  },
  {
   "cell_type": "code",
   "execution_count": null,
   "metadata": {},
   "outputs": [],
   "source": [
    "de_structures_n_abs = np.array([G.number_of_nodes() for G in de_graphs])\n",
    "de_structures_n_rel = abs_to_rel(de_structures_n_abs)"
   ]
  },
  {
   "cell_type": "code",
   "execution_count": null,
   "metadata": {},
   "outputs": [],
   "source": [
    "us_structures_n_abs = np.array([G.number_of_nodes() for G in us_graphs])\n",
    "us_structures_n_rel = abs_to_rel(us_structures_n_abs)"
   ]
  },
  {
   "cell_type": "code",
   "execution_count": null,
   "metadata": {},
   "outputs": [],
   "source": [
    "de_structures_n_abs, us_structures_n_abs"
   ]
  },
  {
   "cell_type": "markdown",
   "metadata": {},
   "source": [
    "##### Single-line plots"
   ]
  },
  {
   "cell_type": "code",
   "execution_count": null,
   "metadata": {},
   "outputs": [],
   "source": [
    "plot_point_statistic(years, de_structures_n_rel, us_structures_n_rel,\n",
    "                     'Year', f'Structural elements relative to {years[0]} baseline',\n",
    "                     savepath='../graphics/structures-growth-relative-nosubseqitems.pdf'\n",
    "                    )"
   ]
  },
  {
   "cell_type": "code",
   "execution_count": null,
   "metadata": {},
   "outputs": [],
   "source": [
    "plot_point_statistic(years, de_structures_n_abs, us_structures_n_abs,\n",
    "                     'Year', f'Number of structural elements',\n",
    "                     savepath='../graphics/structures-growth-absolute-nosubseqitems.pdf'\n",
    "                    )"
   ]
  },
  {
   "cell_type": "markdown",
   "metadata": {},
   "source": [
    "#### With subseqitems"
   ]
  },
  {
   "cell_type": "code",
   "execution_count": null,
   "metadata": {},
   "outputs": [],
   "source": [
    "def get_ssi_stats(country):\n",
    "    crossreference_path_ssi = ('../../legal-networks-data/us/4_crossreference_graph/subseqitems' \n",
    "                               if country.lower() == 'us' else '../../legal-networks-data/de/4_crossreference_graph/subseqitems')\n",
    "    graph_files_ssi = sorted(list_dir(crossreference_path_ssi, 'gpickle.gz')) \n",
    "    n_structures_abs_ssi = list()\n",
    "    for gf in graph_files_ssi:\n",
    "        ssiG = nx.read_gpickle(f'{crossreference_path_ssi}/{gf}')\n",
    "        n_structures_abs_ssi.append(ssiG.number_of_nodes())\n",
    "    n_structures_abs_ssi = np.array(n_structures_abs_ssi)\n",
    "    n_structures_rel_ssi = abs_to_rel(n_structures_abs_ssi)\n",
    "    return n_structures_abs_ssi, n_structures_rel_ssi"
   ]
  },
  {
   "cell_type": "code",
   "execution_count": null,
   "metadata": {},
   "outputs": [],
   "source": [
    "de_n_structures_abs_ssi, de_n_structures_rel_ssi = get_ssi_stats('de')"
   ]
  },
  {
   "cell_type": "code",
   "execution_count": null,
   "metadata": {},
   "outputs": [],
   "source": [
    "us_n_structures_abs_ssi, us_n_structures_rel_ssi = get_ssi_stats('us')"
   ]
  },
  {
   "cell_type": "markdown",
   "metadata": {},
   "source": [
    "##### Table 1, Line 2"
   ]
  },
  {
   "cell_type": "code",
   "execution_count": null,
   "metadata": {},
   "outputs": [],
   "source": [
    "print(f'DE #Structures (incl. subseqitems) 1994: {de_n_structures_abs_ssi[0]}, DE #Structures (incl. subseqitems) 2018: {de_n_structures_abs_ssi[-1]}, Ratio: {de_n_structures_abs_ssi[-1] / de_n_structures_abs_ssi[0]}')\n",
    "print(f'US #Structures (incl. subseqitems) 1994: {us_n_structures_abs_ssi[0]}, US #Structures (incl. subseqitems) 2018: {us_n_structures_abs_ssi[-1]}, Ratio: {us_n_structures_abs_ssi[-1] / us_n_structures_abs_ssi[0]}')"
   ]
  },
  {
   "cell_type": "markdown",
   "metadata": {},
   "source": [
    "##### Single-line plots"
   ]
  },
  {
   "cell_type": "code",
   "execution_count": null,
   "metadata": {},
   "outputs": [],
   "source": [
    "plot_point_statistic(years, de_n_structures_rel_ssi, us_n_structures_rel_ssi, 'Year', \n",
    "                     f'Structural elements relative to {years[0]} baseline',\n",
    "                    savepath='../graphics/structures-growth-relative.pdf'\n",
    "                    )"
   ]
  },
  {
   "cell_type": "code",
   "execution_count": null,
   "metadata": {},
   "outputs": [],
   "source": [
    "plot_point_statistic(years, de_n_structures_abs_ssi, us_n_structures_abs_ssi,\n",
    "                     'Year', f'Number of structural elements',\n",
    "                     savepath='../graphics/structures-growth-absolute.pdf'\n",
    "                    )"
   ]
  },
  {
   "cell_type": "markdown",
   "metadata": {},
   "source": [
    "#### Just seqitems (~ \"number of sections\")"
   ]
  },
  {
   "cell_type": "code",
   "execution_count": null,
   "metadata": {},
   "outputs": [],
   "source": [
    "de_seqitems_n_abs = np.array([len([n for n, ndata in G.nodes(data=True) if ndata.get('citekey') is not None])\n",
    "                         for G in de_graphs])\n",
    "de_seqitems_n_rel = abs_to_rel(de_seqitems_n_abs)"
   ]
  },
  {
   "cell_type": "code",
   "execution_count": null,
   "metadata": {},
   "outputs": [],
   "source": [
    "us_seqitems_n_abs = np.array([len([n for n, ndata in G.nodes(data=True) if ndata.get('citekey') is not None])\n",
    "                         for G in us_graphs])\n",
    "us_seqitems_n_rel = abs_to_rel(us_seqitems_n_abs)"
   ]
  },
  {
   "cell_type": "code",
   "execution_count": null,
   "metadata": {},
   "outputs": [],
   "source": [
    "de_seqitems_n_abs, us_seqitems_n_abs"
   ]
  },
  {
   "cell_type": "markdown",
   "metadata": {},
   "source": [
    "##### Single-line plot"
   ]
  },
  {
   "cell_type": "code",
   "execution_count": null,
   "metadata": {},
   "outputs": [],
   "source": [
    "plot_point_statistic(years, de_seqitems_n_rel, us_seqitems_n_rel,\n",
    "                     'Year', f'Numbered elements relative to {years[0]} baseline',\n",
    "                     savepath='../graphics/presentation-both-seqitems-growth.pdf'\n",
    "                    )"
   ]
  },
  {
   "cell_type": "markdown",
   "metadata": {},
   "source": [
    "### Number of cross-references over time"
   ]
  },
  {
   "cell_type": "code",
   "execution_count": null,
   "metadata": {},
   "outputs": [],
   "source": [
    "de_crossrefs_n_abs = np.array([len([e[-1] for e in G.edges(data='edge_type') if e[-1] == 'reference'])\n",
    "                         for G in de_graphs])\n",
    "de_crossrefs_n_rel = abs_to_rel(de_crossrefs_n_abs)"
   ]
  },
  {
   "cell_type": "code",
   "execution_count": null,
   "metadata": {},
   "outputs": [],
   "source": [
    "us_crossrefs_n_abs = np.array([len([e[-1] for e in G.edges(data='edge_type') if e[-1] == 'reference'])\n",
    "                         for G in us_graphs])\n",
    "us_crossrefs_n_rel = abs_to_rel(us_crossrefs_n_abs)"
   ]
  },
  {
   "cell_type": "markdown",
   "metadata": {},
   "source": [
    "##### Table 1, Line 3"
   ]
  },
  {
   "cell_type": "code",
   "execution_count": null,
   "metadata": {},
   "outputs": [],
   "source": [
    "print(f'DE #Crossreferences 1994: {de_crossrefs_n_abs[0]}, DE #Crossreferences 2018: {de_crossrefs_n_abs[-1]}, Ratio: {de_crossrefs_n_abs[-1] / de_crossrefs_n_abs[0]}')\n",
    "print(f'US #Crossreferences 1994: {us_crossrefs_n_abs[0]}, US #Crossreferences 2018: {us_crossrefs_n_abs[-1]}, Ratio: {us_crossrefs_n_abs[-1] / us_crossrefs_n_abs[0]}')"
   ]
  },
  {
   "cell_type": "markdown",
   "metadata": {},
   "source": [
    "##### Single-line plots"
   ]
  },
  {
   "cell_type": "code",
   "execution_count": null,
   "metadata": {},
   "outputs": [],
   "source": [
    "plot_point_statistic(years, de_crossrefs_n_rel, us_crossrefs_n_rel,\n",
    "                     'Year', f'Cross-references relative to {years[0]} baseline',\n",
    "                    savepath='../graphics/crossrefs-growth-relative.pdf'\n",
    "                    )"
   ]
  },
  {
   "cell_type": "code",
   "execution_count": null,
   "metadata": {},
   "outputs": [],
   "source": [
    "plot_point_statistic(years, de_crossrefs_n_abs, us_crossrefs_n_abs,\n",
    "                     'Year', f'Number of cross-references',\n",
    "                    savepath='../graphics/crossrefs-growth-absolute.pdf'\n",
    "                    )"
   ]
  },
  {
   "cell_type": "markdown",
   "metadata": {},
   "source": [
    "### Tokens vs Structures vs References Growth"
   ]
  },
  {
   "cell_type": "code",
   "execution_count": null,
   "metadata": {},
   "outputs": [],
   "source": [
    "def plot_statistics(xs, statistics, xlabel, ylabel, savepath=None):\n",
    "    \"\"\"\n",
    "    expects statistics to be list of (stat, marker, color, label) tuples\n",
    "    \"\"\"\n",
    "    linestyles = ['-', '--', ':']\n",
    "    for idx, (stat, marker, color, label) in enumerate(statistics):\n",
    "        sns.lineplot(x=xs, y=stat, marker=marker, color=color, markersize=7.5)\n",
    "        plt.gca().lines[-1].set_linestyle(linestyles[idx])\n",
    "    plt.xticks(xs, rotation=90, fontsize=14)\n",
    "    plt.yticks(np.arange(0.9,2.1,0.1), fontsize=14)\n",
    "    plt.ylim(0.95,2.05)\n",
    "    plt.xlabel(xlabel, fontsize=16)\n",
    "    plt.ylabel(ylabel, fontsize=16)\n",
    "    plt.tight_layout()\n",
    "    plt.legend([stat[-1] for stat in statistics], loc='upper left', fontsize=16)\n",
    "    if savepath is not None:\n",
    "        plt.savefig(savepath, dpi=1000)"
   ]
  },
  {
   "cell_type": "code",
   "execution_count": null,
   "metadata": {},
   "outputs": [],
   "source": [
    "plot_statistics(years, [(de_tokens_n_rel, 'o', 'k', 'Tokens'), \n",
    "                        (de_n_structures_rel_ssi, '^', 'b', 'Structures'), \n",
    "                        (de_crossrefs_n_rel, 'v', 'r', 'Cross-References')\n",
    "                       ], \n",
    "                'Year', 'Growth relative to 1994 baseline',\n",
    "                savepath='../graphics/de-tokens-structures-crossrefs-growth-rel.pdf'\n",
    "               )"
   ]
  },
  {
   "cell_type": "code",
   "execution_count": null,
   "metadata": {},
   "outputs": [],
   "source": [
    "plot_statistics(years, [(us_tokens_n_rel, 'o', 'k', 'Tokens'), \n",
    "                        (us_n_structures_rel_ssi, '^', 'b', 'Structures'), \n",
    "                        (us_crossrefs_n_rel, 'v', 'r', 'Cross-References')\n",
    "                       ], \n",
    "                'Year', 'Growth relative to 1994 baseline',\n",
    "                savepath='../graphics/us-tokens-structures-crossrefs-growth-rel.pdf'\n",
    "               )"
   ]
  },
  {
   "cell_type": "markdown",
   "source": [
    "### Additional explorations (not discussed in the paper)"
   ],
   "metadata": {
    "collapsed": false
   }
  },
  {
   "cell_type": "markdown",
   "metadata": {},
   "source": [
    "#### Top k indegree and outdegree"
   ]
  },
  {
   "cell_type": "code",
   "execution_count": null,
   "metadata": {},
   "outputs": [],
   "source": [
    "# 2017\n",
    "de_G = de_graphs[-2]\n",
    "us_G = us_graphs[-2]"
   ]
  },
  {
   "cell_type": "code",
   "execution_count": null,
   "metadata": {},
   "outputs": [],
   "source": [
    "def get_top_k(G, func, k):\n",
    "    return sorted([(n, func(n), G.nodes[n].get('heading')) for n in G.nodes], key=lambda tup:tup[1], reverse=True)[:k]"
   ]
  },
  {
   "cell_type": "code",
   "execution_count": null,
   "metadata": {},
   "outputs": [],
   "source": [
    "de_iG = induced_subgraph(de_G, filter_type='edge', \n",
    "                         filter_attribute='edge_type', filter_values=['reference'])\n",
    "\n",
    "us_iG = induced_subgraph(us_G, filter_type='edge', \n",
    "                         filter_attribute='edge_type', filter_values=['reference'])"
   ]
  },
  {
   "cell_type": "code",
   "execution_count": null,
   "metadata": {},
   "outputs": [],
   "source": [
    "get_top_k(de_iG, de_iG.out_degree, 10)"
   ]
  },
  {
   "cell_type": "code",
   "execution_count": null,
   "metadata": {},
   "outputs": [],
   "source": [
    "get_top_k(de_iG, de_iG.in_degree, 10)"
   ]
  },
  {
   "cell_type": "code",
   "execution_count": null,
   "metadata": {},
   "outputs": [],
   "source": [
    "get_top_k(us_iG, us_iG.out_degree, 10)"
   ]
  },
  {
   "cell_type": "code",
   "execution_count": null,
   "metadata": {},
   "outputs": [],
   "source": [
    "get_top_k(us_iG, us_iG.in_degree, 10)"
   ]
  },
  {
   "cell_type": "markdown",
   "metadata": {},
   "source": [
    "#### Indegree and Outdegree Histograms"
   ]
  },
  {
   "cell_type": "code",
   "execution_count": null,
   "metadata": {},
   "outputs": [],
   "source": [
    "def plot_degree_distribution(G, kind='indegree'):\n",
    "    \"\"\"\n",
    "    country_code: US|DE\n",
    "    kind: indegree|outdegree\n",
    "    \"\"\"\n",
    "    seqitems = [n[0] for n in G.nodes(data=True) if 'citekey' in n[1]]\n",
    "    seqitems_degrees = [G.in_degree(n) if kind == 'indegree' else G.out_degree(n) for n in seqitems]\n",
    "    plt.hist(seqitems_degrees, log=True, bins=55, range=(0,550), color='k')\n",
    "    plt.ylim(10**-0.25,10**5)\n",
    "    plt.xlabel(kind.capitalize())\n",
    "    plt.xticks(range(0,551,50))\n",
    "    plt.ylabel('Number of Sequence Items')\n",
    "    plt.tight_layout()"
   ]
  },
  {
   "cell_type": "code",
   "execution_count": null,
   "metadata": {},
   "outputs": [],
   "source": [
    "plot_degree_distribution(de_iG, 'indegree')"
   ]
  },
  {
   "cell_type": "code",
   "execution_count": null,
   "metadata": {},
   "outputs": [],
   "source": [
    "plot_degree_distribution(us_iG, 'indegree')"
   ]
  },
  {
   "cell_type": "code",
   "execution_count": null,
   "metadata": {},
   "outputs": [],
   "source": [
    "plot_degree_distribution(de_iG, 'outdegree')"
   ]
  },
  {
   "cell_type": "code",
   "execution_count": null,
   "metadata": {},
   "outputs": [],
   "source": [
    "plot_degree_distribution(us_iG, 'outdegree')"
   ]
  },
  {
   "cell_type": "markdown",
   "metadata": {},
   "source": [
    "#### Depth histograms"
   ]
  },
  {
   "cell_type": "code",
   "execution_count": null,
   "metadata": {},
   "outputs": [],
   "source": [
    "def plot_depth_hist_change(country_code, years, save_path=None):\n",
    "    \"\"\"\n",
    "    Adaptation of plot_depth_hist for comparing two distributions (redundant crap code).\n",
    "    \"\"\"\n",
    "    if country_code == 'DE':\n",
    "        Gsubseq = nx.read_gpickle(f'../../legal-networks-data/de/4_crossreference_graph/subseqitems/{years[0]}-01-01.gpickle.gz')\n",
    "        Gsubseq2 = nx.read_gpickle(f'../../legal-networks-data/de/4_crossreference_graph/subseqitems/{years[1]}-01-01.gpickle.gz')\n",
    "    else:\n",
    "        Gsubseq = nx.read_gpickle(f'../../legal-networks-data/us/4_crossreference_graph/subseqitems/{years[0]}.gpickle.gz')\n",
    "        Gsubseq2 = nx.read_gpickle(f'../../legal-networks-data/us/4_crossreference_graph/subseqitems/{years[1]}.gpickle.gz')\n",
    "    HGsubseq = hierarchy_graph(Gsubseq)\n",
    "    HGsubseq2 = hierarchy_graph(Gsubseq2)\n",
    "    \n",
    "    filtered = [(n[0], nx.shortest_path_length(HGsubseq, 'root', n[0])) \n",
    "                for n in HGsubseq.nodes(data=True) if HGsubseq.out_degree(n[0]) == 0]\n",
    "    c = Counter(x[1]-1 for x in filtered)\n",
    "    filtered2 = [(n[0], nx.shortest_path_length(HGsubseq2, 'root', n[0])) \n",
    "                for n in HGsubseq2.nodes(data=True) if HGsubseq2.out_degree(n[0]) == 0]\n",
    "    c2 = Counter(x[1]-1 for x in filtered2)\n",
    "    \n",
    "    plt.rcParams['figure.figsize'] = (9,9)\n",
    "    plt.bar(x=c.keys(), height=[x/len(filtered) for x in c.values()], color='r', width=0.8, alpha=0.5)\n",
    "    plt.bar(x=c2.keys(), height=[x/len(filtered2) for x in c2.values()], color='k', width=0.8, alpha=0.5)\n",
    "    plt.legend([f'{years[0]}', f'{years[1]}'])\n",
    "    plt.xlim(0,15)\n",
    "    plt.xticks(range(15))\n",
    "    plt.ylim(0,0.35)\n",
    "    plt.yticks(np.arange(0,0.36, 0.05))\n",
    "    plt.xlabel('Depth of Leaf Nodes')\n",
    "    plt.ylabel('Fraction of Leaf Nodes')\n",
    "    plt.title(('Germany' if country_code == 'DE' else 'United States') + f' ({years[0]} vs. {years[1]})')\n",
    "    plt.tight_layout()\n",
    "    if save_path is not None:\n",
    "        plt.savefig(save_path, dpi=600)"
   ]
  },
  {
   "cell_type": "code",
   "execution_count": null,
   "metadata": {},
   "outputs": [],
   "source": [
    "plot_depth_hist_change('US', [1994,2018])"
   ]
  },
  {
   "cell_type": "code",
   "execution_count": null,
   "metadata": {},
   "outputs": [],
   "source": [
    "plot_depth_hist_change('DE', [1994,2018])"
   ]
  },
  {
   "cell_type": "markdown",
   "source": [
    "### The End"
   ],
   "metadata": {
    "collapsed": false,
    "pycharm": {
     "name": "#%% md\n"
    }
   }
  }
 ],
 "metadata": {
  "kernelspec": {
   "display_name": "Python 3",
   "language": "python",
   "name": "python3"
  },
  "language_info": {
   "codemirror_mode": {
    "name": "ipython",
    "version": 3
   },
   "file_extension": ".py",
   "mimetype": "text/x-python",
   "name": "python",
   "nbconvert_exporter": "python",
   "pygments_lexer": "ipython3",
   "version": "3.7.5"
  }
 },
 "nbformat": 4,
 "nbformat_minor": 4
}